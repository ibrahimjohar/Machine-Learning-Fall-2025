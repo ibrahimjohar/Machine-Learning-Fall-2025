{
 "cells": [
  {
   "cell_type": "markdown",
   "id": "0ecc89d9",
   "metadata": {},
   "source": [
    "#### Ibrahim Johar Farooqi\n",
    "#### 23K-0074\n",
    "#### ML - Lab 03 - Tasks"
   ]
  },
  {
   "cell_type": "markdown",
   "id": "13b6492b",
   "metadata": {},
   "source": [
    "#### task 01"
   ]
  },
  {
   "cell_type": "code",
   "execution_count": 1,
   "id": "e29817a6",
   "metadata": {},
   "outputs": [],
   "source": [
    "import numpy as np\n",
    "import pandas as pd\n",
    "import matplotlib.pyplot as plt\n",
    "import seaborn as ans\n",
    "import sklearn\n",
    "from sklearn.tree import DecisionTreeClassifier\n",
    "from sklearn.model_selection import train_test_split\n",
    "from sklearn.metrics import accuracy_score"
   ]
  },
  {
   "cell_type": "code",
   "execution_count": 2,
   "id": "8b52ef16",
   "metadata": {},
   "outputs": [
    {
     "data": {
      "text/html": [
       "<div>\n",
       "<style scoped>\n",
       "    .dataframe tbody tr th:only-of-type {\n",
       "        vertical-align: middle;\n",
       "    }\n",
       "\n",
       "    .dataframe tbody tr th {\n",
       "        vertical-align: top;\n",
       "    }\n",
       "\n",
       "    .dataframe thead th {\n",
       "        text-align: right;\n",
       "    }\n",
       "</style>\n",
       "<table border=\"1\" class=\"dataframe\">\n",
       "  <thead>\n",
       "    <tr style=\"text-align: right;\">\n",
       "      <th></th>\n",
       "      <th>STUDENT ID</th>\n",
       "      <th>1</th>\n",
       "      <th>2</th>\n",
       "      <th>3</th>\n",
       "      <th>4</th>\n",
       "      <th>5</th>\n",
       "      <th>6</th>\n",
       "      <th>7</th>\n",
       "      <th>8</th>\n",
       "      <th>9</th>\n",
       "      <th>...</th>\n",
       "      <th>23</th>\n",
       "      <th>24</th>\n",
       "      <th>25</th>\n",
       "      <th>26</th>\n",
       "      <th>27</th>\n",
       "      <th>28</th>\n",
       "      <th>29</th>\n",
       "      <th>30</th>\n",
       "      <th>COURSE ID</th>\n",
       "      <th>GRADE</th>\n",
       "    </tr>\n",
       "  </thead>\n",
       "  <tbody>\n",
       "    <tr>\n",
       "      <th>0</th>\n",
       "      <td>STUDENT1</td>\n",
       "      <td>2</td>\n",
       "      <td>2</td>\n",
       "      <td>3</td>\n",
       "      <td>3</td>\n",
       "      <td>1</td>\n",
       "      <td>2</td>\n",
       "      <td>2</td>\n",
       "      <td>1</td>\n",
       "      <td>1</td>\n",
       "      <td>...</td>\n",
       "      <td>1</td>\n",
       "      <td>1</td>\n",
       "      <td>3</td>\n",
       "      <td>2</td>\n",
       "      <td>1</td>\n",
       "      <td>2</td>\n",
       "      <td>1</td>\n",
       "      <td>1</td>\n",
       "      <td>1</td>\n",
       "      <td>1</td>\n",
       "    </tr>\n",
       "    <tr>\n",
       "      <th>1</th>\n",
       "      <td>STUDENT2</td>\n",
       "      <td>2</td>\n",
       "      <td>2</td>\n",
       "      <td>3</td>\n",
       "      <td>3</td>\n",
       "      <td>1</td>\n",
       "      <td>2</td>\n",
       "      <td>2</td>\n",
       "      <td>1</td>\n",
       "      <td>1</td>\n",
       "      <td>...</td>\n",
       "      <td>1</td>\n",
       "      <td>1</td>\n",
       "      <td>3</td>\n",
       "      <td>2</td>\n",
       "      <td>3</td>\n",
       "      <td>2</td>\n",
       "      <td>2</td>\n",
       "      <td>3</td>\n",
       "      <td>1</td>\n",
       "      <td>1</td>\n",
       "    </tr>\n",
       "    <tr>\n",
       "      <th>2</th>\n",
       "      <td>STUDENT3</td>\n",
       "      <td>2</td>\n",
       "      <td>2</td>\n",
       "      <td>2</td>\n",
       "      <td>3</td>\n",
       "      <td>2</td>\n",
       "      <td>2</td>\n",
       "      <td>2</td>\n",
       "      <td>2</td>\n",
       "      <td>4</td>\n",
       "      <td>...</td>\n",
       "      <td>1</td>\n",
       "      <td>1</td>\n",
       "      <td>2</td>\n",
       "      <td>2</td>\n",
       "      <td>1</td>\n",
       "      <td>1</td>\n",
       "      <td>2</td>\n",
       "      <td>2</td>\n",
       "      <td>1</td>\n",
       "      <td>1</td>\n",
       "    </tr>\n",
       "    <tr>\n",
       "      <th>3</th>\n",
       "      <td>STUDENT4</td>\n",
       "      <td>1</td>\n",
       "      <td>1</td>\n",
       "      <td>1</td>\n",
       "      <td>3</td>\n",
       "      <td>1</td>\n",
       "      <td>2</td>\n",
       "      <td>1</td>\n",
       "      <td>2</td>\n",
       "      <td>1</td>\n",
       "      <td>...</td>\n",
       "      <td>1</td>\n",
       "      <td>2</td>\n",
       "      <td>3</td>\n",
       "      <td>2</td>\n",
       "      <td>2</td>\n",
       "      <td>1</td>\n",
       "      <td>3</td>\n",
       "      <td>2</td>\n",
       "      <td>1</td>\n",
       "      <td>1</td>\n",
       "    </tr>\n",
       "    <tr>\n",
       "      <th>4</th>\n",
       "      <td>STUDENT5</td>\n",
       "      <td>2</td>\n",
       "      <td>2</td>\n",
       "      <td>1</td>\n",
       "      <td>3</td>\n",
       "      <td>2</td>\n",
       "      <td>2</td>\n",
       "      <td>1</td>\n",
       "      <td>3</td>\n",
       "      <td>1</td>\n",
       "      <td>...</td>\n",
       "      <td>2</td>\n",
       "      <td>1</td>\n",
       "      <td>2</td>\n",
       "      <td>2</td>\n",
       "      <td>2</td>\n",
       "      <td>1</td>\n",
       "      <td>2</td>\n",
       "      <td>2</td>\n",
       "      <td>1</td>\n",
       "      <td>1</td>\n",
       "    </tr>\n",
       "  </tbody>\n",
       "</table>\n",
       "<p>5 rows × 33 columns</p>\n",
       "</div>"
      ],
      "text/plain": [
       "  STUDENT ID  1  2  3  4  5  6  7  8  9  ...  23  24  25  26  27  28  29  30  \\\n",
       "0   STUDENT1  2  2  3  3  1  2  2  1  1  ...   1   1   3   2   1   2   1   1   \n",
       "1   STUDENT2  2  2  3  3  1  2  2  1  1  ...   1   1   3   2   3   2   2   3   \n",
       "2   STUDENT3  2  2  2  3  2  2  2  2  4  ...   1   1   2   2   1   1   2   2   \n",
       "3   STUDENT4  1  1  1  3  1  2  1  2  1  ...   1   2   3   2   2   1   3   2   \n",
       "4   STUDENT5  2  2  1  3  2  2  1  3  1  ...   2   1   2   2   2   1   2   2   \n",
       "\n",
       "   COURSE ID  GRADE  \n",
       "0          1      1  \n",
       "1          1      1  \n",
       "2          1      1  \n",
       "3          1      1  \n",
       "4          1      1  \n",
       "\n",
       "[5 rows x 33 columns]"
      ]
     },
     "execution_count": 2,
     "metadata": {},
     "output_type": "execute_result"
    }
   ],
   "source": [
    "#loading dataset 1\n",
    "df1 = pd.read_csv(\"higher education students performance evaluation.csv\")\n",
    "df1.head()"
   ]
  },
  {
   "cell_type": "code",
   "execution_count": 3,
   "id": "5b47dbc5",
   "metadata": {},
   "outputs": [
    {
     "name": "stdout",
     "output_type": "stream",
     "text": [
      "<class 'pandas.core.frame.DataFrame'>\n",
      "RangeIndex: 145 entries, 0 to 144\n",
      "Data columns (total 33 columns):\n",
      " #   Column      Non-Null Count  Dtype \n",
      "---  ------      --------------  ----- \n",
      " 0   STUDENT ID  145 non-null    object\n",
      " 1   1           145 non-null    int64 \n",
      " 2   2           145 non-null    int64 \n",
      " 3   3           145 non-null    int64 \n",
      " 4   4           145 non-null    int64 \n",
      " 5   5           145 non-null    int64 \n",
      " 6   6           145 non-null    int64 \n",
      " 7   7           145 non-null    int64 \n",
      " 8   8           145 non-null    int64 \n",
      " 9   9           145 non-null    int64 \n",
      " 10  10          145 non-null    int64 \n",
      " 11  11          145 non-null    int64 \n",
      " 12  12          145 non-null    int64 \n",
      " 13  13          145 non-null    int64 \n",
      " 14  14          145 non-null    int64 \n",
      " 15  15          145 non-null    int64 \n",
      " 16  16          145 non-null    int64 \n",
      " 17  17          145 non-null    int64 \n",
      " 18  18          145 non-null    int64 \n",
      " 19  19          145 non-null    int64 \n",
      " 20  20          145 non-null    int64 \n",
      " 21  21          145 non-null    int64 \n",
      " 22  22          145 non-null    int64 \n",
      " 23  23          145 non-null    int64 \n",
      " 24  24          145 non-null    int64 \n",
      " 25  25          145 non-null    int64 \n",
      " 26  26          145 non-null    int64 \n",
      " 27  27          145 non-null    int64 \n",
      " 28  28          145 non-null    int64 \n",
      " 29  29          145 non-null    int64 \n",
      " 30  30          145 non-null    int64 \n",
      " 31  COURSE ID   145 non-null    int64 \n",
      " 32  GRADE       145 non-null    int64 \n",
      "dtypes: int64(32), object(1)\n",
      "memory usage: 37.5+ KB\n"
     ]
    }
   ],
   "source": [
    "df1.info()"
   ]
  },
  {
   "cell_type": "code",
   "execution_count": 5,
   "id": "76a111d6",
   "metadata": {},
   "outputs": [
    {
     "data": {
      "text/plain": [
       "Index(['STUDENT ID', '1', '2', '3', '4', '5', '6', '7', '8', '9', '10', '11',\n",
       "       '12', '13', '14', '15', '16', '17', '18', '19', '20', '21', '22', '23',\n",
       "       '24', '25', '26', '27', '28', '29', '30', 'COURSE ID', 'GRADE'],\n",
       "      dtype='object')"
      ]
     },
     "execution_count": 5,
     "metadata": {},
     "output_type": "execute_result"
    }
   ],
   "source": [
    "df1.columns"
   ]
  },
  {
   "cell_type": "code",
   "execution_count": 6,
   "id": "315348e0",
   "metadata": {},
   "outputs": [
    {
     "name": "stdout",
     "output_type": "stream",
     "text": [
      "Shape: (145, 33)\n",
      "\n",
      "Columns:\n",
      " ['STUDENT ID', '1', '2', '3', '4', '5', '6', '7', '8', '9', '10', '11', '12', '13', '14', '15', '16', '17', '18', '19', '20', '21', '22', '23', '24', '25', '26', '27', '28', '29', '30', 'COURSE ID', 'GRADE']\n"
     ]
    }
   ],
   "source": [
    "print(\"Shape:\", df1.shape)\n",
    "print(\"\\nColumns:\\n\", df1.columns.tolist())"
   ]
  },
  {
   "cell_type": "code",
   "execution_count": 7,
   "id": "d5cf3dab",
   "metadata": {},
   "outputs": [
    {
     "name": "stdout",
     "output_type": "stream",
     "text": [
      "\n",
      "GRADE - dtype: int64\n",
      "Unique vals (count): 8\n",
      "\n",
      "GRADE vals counts:\n",
      " GRADE\n",
      "0     8\n",
      "1    35\n",
      "2    24\n",
      "3    21\n",
      "4    10\n",
      "5    17\n",
      "6    13\n",
      "7    17\n",
      "Name: count, dtype: int64\n"
     ]
    }
   ],
   "source": [
    "print(\"\\nGRADE - dtype:\", df1['GRADE'].dtype)\n",
    "print(\"Unique vals (count):\", df1['GRADE'].nunique())\n",
    "print(\"\\nGRADE vals counts:\\n\", df1['GRADE'].value_counts().sort_index())"
   ]
  },
  {
   "cell_type": "code",
   "execution_count": 8,
   "id": "13fda4bd",
   "metadata": {},
   "outputs": [
    {
     "name": "stdout",
     "output_type": "stream",
     "text": [
      "\n",
      "GRADE descriptive stats:\n",
      " count    145.000000\n",
      "mean       3.227586\n",
      "std        2.197678\n",
      "min        0.000000\n",
      "25%        1.000000\n",
      "50%        3.000000\n",
      "75%        5.000000\n",
      "max        7.000000\n",
      "Name: GRADE, dtype: float64\n"
     ]
    }
   ],
   "source": [
    "print(\"\\nGRADE descriptive stats:\\n\", df1['GRADE'].describe())"
   ]
  },
  {
   "cell_type": "markdown",
   "id": "a73159c4",
   "metadata": {},
   "source": [
    "one method to check if we should apply regression or classification (for exam practice reference)"
   ]
  },
  {
   "cell_type": "code",
   "execution_count": 10,
   "id": "42304ab9",
   "metadata": {},
   "outputs": [
    {
     "name": "stdout",
     "output_type": "stream",
     "text": [
      "\n",
      "Decision hint: GRADE has <= 10 unique values -> treat as CLASSIFICATION (multi-class).\n"
     ]
    }
   ],
   "source": [
    "n_unique = df1['GRADE'].nunique()\n",
    "if n_unique <= 10:\n",
    "    print(\"\\nDecision hint: GRADE has <= 10 unique values -> treat as CLASSIFICATION (multi-class).\")\n",
    "else:\n",
    "    print(\"\\nDecision hint: GRADE has > 10 unique values -> might be regression or consider binning for classification.\")"
   ]
  },
  {
   "cell_type": "code",
   "execution_count": 29,
   "id": "4b6a3fbe",
   "metadata": {},
   "outputs": [
    {
     "name": "stdout",
     "output_type": "stream",
     "text": [
      "X1_train: (116, 31) X1_test: (29, 31)\n",
      "y1_train: (116,) y1_test: (29,)\n"
     ]
    }
   ],
   "source": [
    "X1 = df1.drop(columns=['STUDENT ID', 'GRADE']).copy()\n",
    "y1 = df1['GRADE'].copy()\n",
    "\n",
    "X1_train, X1_test, y1_train, y1_test = train_test_split(X1, y1, test_size=0.2, random_state=42, stratify=y1)\n",
    "\n",
    "print(\"X1_train:\", X1_train.shape, \"X1_test:\", X1_test.shape)\n",
    "print(\"y1_train:\", y1_train.shape, \"y1_test:\", y1_test.shape)"
   ]
  },
  {
   "cell_type": "code",
   "execution_count": null,
   "id": "1bed2dcf",
   "metadata": {},
   "outputs": [
    {
     "name": "stdout",
     "output_type": "stream",
     "text": [
      "entropy training acc: 1.0000\n",
      "entropy testing  acc: 0.2414\n"
     ]
    }
   ],
   "source": [
    "#dataset1 - entropy w/o pruning\n",
    "model = DecisionTreeClassifier(criterion='entropy')\n",
    "model.fit(X1_train, y1_train)\n",
    "\n",
    "y_train_pred = model.predict(X1_train)\n",
    "y_test_pred = model.predict(X1_test)\n",
    "\n",
    "train_acc = accuracy_score(y1_train, y_train_pred)\n",
    "test_acc  = accuracy_score(y1_test, y_test_pred)\n",
    "\n",
    "print(f\"entropy training acc: {train_acc:.4f}\")\n",
    "print(f\"entropy testing acc: {test_acc:.4f}\")"
   ]
  },
  {
   "cell_type": "code",
   "execution_count": 35,
   "id": "0b7b88fc",
   "metadata": {},
   "outputs": [
    {
     "name": "stdout",
     "output_type": "stream",
     "text": [
      "entropy training acc w/ pruning: 1.0000\n",
      "entropy testing acc w/ pruning: 0.2069\n"
     ]
    }
   ],
   "source": [
    "#dataset1 - entropy w/ pruning\n",
    "model = DecisionTreeClassifier(criterion='entropy', ccp_alpha=0.015)\n",
    "model.fit(X1_train, y1_train)\n",
    "\n",
    "y_train_pred = model.predict(X1_train)\n",
    "y_test_pred = model.predict(X1_test)\n",
    "\n",
    "train_acc = accuracy_score(y1_train, y_train_pred)\n",
    "test_acc = accuracy_score(y1_test, y_test_pred)\n",
    "\n",
    "print(f\"entropy training acc w/ pruning: {train_acc:.4f}\")\n",
    "print(f\"entropy testing acc w/ pruning: {test_acc:.4f}\")"
   ]
  },
  {
   "cell_type": "code",
   "execution_count": null,
   "id": "8f5d5206",
   "metadata": {},
   "outputs": [
    {
     "name": "stdout",
     "output_type": "stream",
     "text": [
      "gini training acc: 1.0000\n",
      "gini testing acc: 0.2414\n"
     ]
    }
   ],
   "source": [
    "#dataset1 - gini w/o pruning\n",
    "model = DecisionTreeClassifier(criterion='gini')\n",
    "model.fit(X1_train, y1_train)\n",
    "\n",
    "y_train_pred = model.predict(X1_train)\n",
    "y_test_pred = model.predict(X1_test)\n",
    "\n",
    "train_acc = accuracy_score(y1_train, y_train_pred)\n",
    "test_acc = accuracy_score(y1_test, y_test_pred)\n",
    "\n",
    "print(f\"gini training acc: {train_acc:.4f}\")\n",
    "print(f\"gini testing acc: {test_acc:.4f}\")"
   ]
  },
  {
   "cell_type": "code",
   "execution_count": null,
   "id": "0e519935",
   "metadata": {},
   "outputs": [
    {
     "name": "stdout",
     "output_type": "stream",
     "text": [
      "gini training acc w/ pruning: 0.7845\n",
      "gini testing acc w/ pruning: 0.2759\n"
     ]
    }
   ],
   "source": [
    "#dataset1 - gini w/ pruning\n",
    "model = DecisionTreeClassifier(criterion='gini', ccp_alpha=0.015)\n",
    "model.fit(X1_train, y1_train)\n",
    "\n",
    "y_train_pred = model.predict(X1_train)\n",
    "y_test_pred = model.predict(X1_test)\n",
    "\n",
    "train_acc = accuracy_score(y1_train, y_train_pred)\n",
    "test_acc = accuracy_score(y1_test, y_test_pred)\n",
    "\n",
    "print(f\"gini training acc w/ pruning: {train_acc:.4f}\")\n",
    "print(f\"gini testing acc w/ pruning: {test_acc:.4f}\")"
   ]
  },
  {
   "cell_type": "code",
   "execution_count": 43,
   "id": "9985aef7",
   "metadata": {},
   "outputs": [
    {
     "data": {
      "text/html": [
       "<div>\n",
       "<style scoped>\n",
       "    .dataframe tbody tr th:only-of-type {\n",
       "        vertical-align: middle;\n",
       "    }\n",
       "\n",
       "    .dataframe tbody tr th {\n",
       "        vertical-align: top;\n",
       "    }\n",
       "\n",
       "    .dataframe thead th {\n",
       "        text-align: right;\n",
       "    }\n",
       "</style>\n",
       "<table border=\"1\" class=\"dataframe\">\n",
       "  <thead>\n",
       "    <tr style=\"text-align: right;\">\n",
       "      <th></th>\n",
       "      <th>id</th>\n",
       "      <th>diagnosis</th>\n",
       "      <th>radius_mean</th>\n",
       "      <th>texture_mean</th>\n",
       "      <th>perimeter_mean</th>\n",
       "      <th>area_mean</th>\n",
       "      <th>smoothness_mean</th>\n",
       "      <th>compactness_mean</th>\n",
       "      <th>concavity_mean</th>\n",
       "      <th>concave points_mean</th>\n",
       "      <th>...</th>\n",
       "      <th>texture_worst</th>\n",
       "      <th>perimeter_worst</th>\n",
       "      <th>area_worst</th>\n",
       "      <th>smoothness_worst</th>\n",
       "      <th>compactness_worst</th>\n",
       "      <th>concavity_worst</th>\n",
       "      <th>concave points_worst</th>\n",
       "      <th>symmetry_worst</th>\n",
       "      <th>fractal_dimension_worst</th>\n",
       "      <th>Unnamed: 32</th>\n",
       "    </tr>\n",
       "  </thead>\n",
       "  <tbody>\n",
       "    <tr>\n",
       "      <th>0</th>\n",
       "      <td>842302</td>\n",
       "      <td>M</td>\n",
       "      <td>17.99</td>\n",
       "      <td>10.38</td>\n",
       "      <td>122.80</td>\n",
       "      <td>1001.0</td>\n",
       "      <td>0.11840</td>\n",
       "      <td>0.27760</td>\n",
       "      <td>0.3001</td>\n",
       "      <td>0.14710</td>\n",
       "      <td>...</td>\n",
       "      <td>17.33</td>\n",
       "      <td>184.60</td>\n",
       "      <td>2019.0</td>\n",
       "      <td>0.1622</td>\n",
       "      <td>0.6656</td>\n",
       "      <td>0.7119</td>\n",
       "      <td>0.2654</td>\n",
       "      <td>0.4601</td>\n",
       "      <td>0.11890</td>\n",
       "      <td>NaN</td>\n",
       "    </tr>\n",
       "    <tr>\n",
       "      <th>1</th>\n",
       "      <td>842517</td>\n",
       "      <td>M</td>\n",
       "      <td>20.57</td>\n",
       "      <td>17.77</td>\n",
       "      <td>132.90</td>\n",
       "      <td>1326.0</td>\n",
       "      <td>0.08474</td>\n",
       "      <td>0.07864</td>\n",
       "      <td>0.0869</td>\n",
       "      <td>0.07017</td>\n",
       "      <td>...</td>\n",
       "      <td>23.41</td>\n",
       "      <td>158.80</td>\n",
       "      <td>1956.0</td>\n",
       "      <td>0.1238</td>\n",
       "      <td>0.1866</td>\n",
       "      <td>0.2416</td>\n",
       "      <td>0.1860</td>\n",
       "      <td>0.2750</td>\n",
       "      <td>0.08902</td>\n",
       "      <td>NaN</td>\n",
       "    </tr>\n",
       "    <tr>\n",
       "      <th>2</th>\n",
       "      <td>84300903</td>\n",
       "      <td>M</td>\n",
       "      <td>19.69</td>\n",
       "      <td>21.25</td>\n",
       "      <td>130.00</td>\n",
       "      <td>1203.0</td>\n",
       "      <td>0.10960</td>\n",
       "      <td>0.15990</td>\n",
       "      <td>0.1974</td>\n",
       "      <td>0.12790</td>\n",
       "      <td>...</td>\n",
       "      <td>25.53</td>\n",
       "      <td>152.50</td>\n",
       "      <td>1709.0</td>\n",
       "      <td>0.1444</td>\n",
       "      <td>0.4245</td>\n",
       "      <td>0.4504</td>\n",
       "      <td>0.2430</td>\n",
       "      <td>0.3613</td>\n",
       "      <td>0.08758</td>\n",
       "      <td>NaN</td>\n",
       "    </tr>\n",
       "    <tr>\n",
       "      <th>3</th>\n",
       "      <td>84348301</td>\n",
       "      <td>M</td>\n",
       "      <td>11.42</td>\n",
       "      <td>20.38</td>\n",
       "      <td>77.58</td>\n",
       "      <td>386.1</td>\n",
       "      <td>0.14250</td>\n",
       "      <td>0.28390</td>\n",
       "      <td>0.2414</td>\n",
       "      <td>0.10520</td>\n",
       "      <td>...</td>\n",
       "      <td>26.50</td>\n",
       "      <td>98.87</td>\n",
       "      <td>567.7</td>\n",
       "      <td>0.2098</td>\n",
       "      <td>0.8663</td>\n",
       "      <td>0.6869</td>\n",
       "      <td>0.2575</td>\n",
       "      <td>0.6638</td>\n",
       "      <td>0.17300</td>\n",
       "      <td>NaN</td>\n",
       "    </tr>\n",
       "    <tr>\n",
       "      <th>4</th>\n",
       "      <td>84358402</td>\n",
       "      <td>M</td>\n",
       "      <td>20.29</td>\n",
       "      <td>14.34</td>\n",
       "      <td>135.10</td>\n",
       "      <td>1297.0</td>\n",
       "      <td>0.10030</td>\n",
       "      <td>0.13280</td>\n",
       "      <td>0.1980</td>\n",
       "      <td>0.10430</td>\n",
       "      <td>...</td>\n",
       "      <td>16.67</td>\n",
       "      <td>152.20</td>\n",
       "      <td>1575.0</td>\n",
       "      <td>0.1374</td>\n",
       "      <td>0.2050</td>\n",
       "      <td>0.4000</td>\n",
       "      <td>0.1625</td>\n",
       "      <td>0.2364</td>\n",
       "      <td>0.07678</td>\n",
       "      <td>NaN</td>\n",
       "    </tr>\n",
       "  </tbody>\n",
       "</table>\n",
       "<p>5 rows × 33 columns</p>\n",
       "</div>"
      ],
      "text/plain": [
       "         id diagnosis  radius_mean  texture_mean  perimeter_mean  area_mean  \\\n",
       "0    842302         M        17.99         10.38          122.80     1001.0   \n",
       "1    842517         M        20.57         17.77          132.90     1326.0   \n",
       "2  84300903         M        19.69         21.25          130.00     1203.0   \n",
       "3  84348301         M        11.42         20.38           77.58      386.1   \n",
       "4  84358402         M        20.29         14.34          135.10     1297.0   \n",
       "\n",
       "   smoothness_mean  compactness_mean  concavity_mean  concave points_mean  \\\n",
       "0          0.11840           0.27760          0.3001              0.14710   \n",
       "1          0.08474           0.07864          0.0869              0.07017   \n",
       "2          0.10960           0.15990          0.1974              0.12790   \n",
       "3          0.14250           0.28390          0.2414              0.10520   \n",
       "4          0.10030           0.13280          0.1980              0.10430   \n",
       "\n",
       "   ...  texture_worst  perimeter_worst  area_worst  smoothness_worst  \\\n",
       "0  ...          17.33           184.60      2019.0            0.1622   \n",
       "1  ...          23.41           158.80      1956.0            0.1238   \n",
       "2  ...          25.53           152.50      1709.0            0.1444   \n",
       "3  ...          26.50            98.87       567.7            0.2098   \n",
       "4  ...          16.67           152.20      1575.0            0.1374   \n",
       "\n",
       "   compactness_worst  concavity_worst  concave points_worst  symmetry_worst  \\\n",
       "0             0.6656           0.7119                0.2654          0.4601   \n",
       "1             0.1866           0.2416                0.1860          0.2750   \n",
       "2             0.4245           0.4504                0.2430          0.3613   \n",
       "3             0.8663           0.6869                0.2575          0.6638   \n",
       "4             0.2050           0.4000                0.1625          0.2364   \n",
       "\n",
       "   fractal_dimension_worst  Unnamed: 32  \n",
       "0                  0.11890          NaN  \n",
       "1                  0.08902          NaN  \n",
       "2                  0.08758          NaN  \n",
       "3                  0.17300          NaN  \n",
       "4                  0.07678          NaN  \n",
       "\n",
       "[5 rows x 33 columns]"
      ]
     },
     "execution_count": 43,
     "metadata": {},
     "output_type": "execute_result"
    }
   ],
   "source": [
    "#loading dataset 2\n",
    "df2 = pd.read_csv('breast_cancer_wisconsin_diagnostic.csv')\n",
    "df2.head()"
   ]
  },
  {
   "cell_type": "code",
   "execution_count": 44,
   "id": "87cc1ff0",
   "metadata": {},
   "outputs": [
    {
     "name": "stdout",
     "output_type": "stream",
     "text": [
      "<class 'pandas.core.frame.DataFrame'>\n",
      "RangeIndex: 569 entries, 0 to 568\n",
      "Data columns (total 33 columns):\n",
      " #   Column                   Non-Null Count  Dtype  \n",
      "---  ------                   --------------  -----  \n",
      " 0   id                       569 non-null    int64  \n",
      " 1   diagnosis                569 non-null    object \n",
      " 2   radius_mean              569 non-null    float64\n",
      " 3   texture_mean             569 non-null    float64\n",
      " 4   perimeter_mean           569 non-null    float64\n",
      " 5   area_mean                569 non-null    float64\n",
      " 6   smoothness_mean          569 non-null    float64\n",
      " 7   compactness_mean         569 non-null    float64\n",
      " 8   concavity_mean           569 non-null    float64\n",
      " 9   concave points_mean      569 non-null    float64\n",
      " 10  symmetry_mean            569 non-null    float64\n",
      " 11  fractal_dimension_mean   569 non-null    float64\n",
      " 12  radius_se                569 non-null    float64\n",
      " 13  texture_se               569 non-null    float64\n",
      " 14  perimeter_se             569 non-null    float64\n",
      " 15  area_se                  569 non-null    float64\n",
      " 16  smoothness_se            569 non-null    float64\n",
      " 17  compactness_se           569 non-null    float64\n",
      " 18  concavity_se             569 non-null    float64\n",
      " 19  concave points_se        569 non-null    float64\n",
      " 20  symmetry_se              569 non-null    float64\n",
      " 21  fractal_dimension_se     569 non-null    float64\n",
      " 22  radius_worst             569 non-null    float64\n",
      " 23  texture_worst            569 non-null    float64\n",
      " 24  perimeter_worst          569 non-null    float64\n",
      " 25  area_worst               569 non-null    float64\n",
      " 26  smoothness_worst         569 non-null    float64\n",
      " 27  compactness_worst        569 non-null    float64\n",
      " 28  concavity_worst          569 non-null    float64\n",
      " 29  concave points_worst     569 non-null    float64\n",
      " 30  symmetry_worst           569 non-null    float64\n",
      " 31  fractal_dimension_worst  569 non-null    float64\n",
      " 32  Unnamed: 32              0 non-null      float64\n",
      "dtypes: float64(31), int64(1), object(1)\n",
      "memory usage: 146.8+ KB\n"
     ]
    }
   ],
   "source": [
    "df2.info()"
   ]
  },
  {
   "cell_type": "code",
   "execution_count": 45,
   "id": "a0583f20",
   "metadata": {},
   "outputs": [
    {
     "data": {
      "text/plain": [
       "Index(['id', 'diagnosis', 'radius_mean', 'texture_mean', 'perimeter_mean',\n",
       "       'area_mean', 'smoothness_mean', 'compactness_mean', 'concavity_mean',\n",
       "       'concave points_mean', 'symmetry_mean', 'fractal_dimension_mean',\n",
       "       'radius_se', 'texture_se', 'perimeter_se', 'area_se', 'smoothness_se',\n",
       "       'compactness_se', 'concavity_se', 'concave points_se', 'symmetry_se',\n",
       "       'fractal_dimension_se', 'radius_worst', 'texture_worst',\n",
       "       'perimeter_worst', 'area_worst', 'smoothness_worst',\n",
       "       'compactness_worst', 'concavity_worst', 'concave points_worst',\n",
       "       'symmetry_worst', 'fractal_dimension_worst', 'Unnamed: 32'],\n",
       "      dtype='object')"
      ]
     },
     "execution_count": 45,
     "metadata": {},
     "output_type": "execute_result"
    }
   ],
   "source": [
    "df2.columns"
   ]
  },
  {
   "cell_type": "code",
   "execution_count": 46,
   "id": "0b2ec4a2",
   "metadata": {},
   "outputs": [
    {
     "name": "stdout",
     "output_type": "stream",
     "text": [
      "Shape: (569, 33)\n",
      "\n",
      "Columns:\n",
      " ['id', 'diagnosis', 'radius_mean', 'texture_mean', 'perimeter_mean', 'area_mean', 'smoothness_mean', 'compactness_mean', 'concavity_mean', 'concave points_mean', 'symmetry_mean', 'fractal_dimension_mean', 'radius_se', 'texture_se', 'perimeter_se', 'area_se', 'smoothness_se', 'compactness_se', 'concavity_se', 'concave points_se', 'symmetry_se', 'fractal_dimension_se', 'radius_worst', 'texture_worst', 'perimeter_worst', 'area_worst', 'smoothness_worst', 'compactness_worst', 'concavity_worst', 'concave points_worst', 'symmetry_worst', 'fractal_dimension_worst', 'Unnamed: 32']\n"
     ]
    }
   ],
   "source": [
    "print(\"Shape:\", df2.shape)\n",
    "print(\"\\nColumns:\\n\", df2.columns.tolist())"
   ]
  },
  {
   "cell_type": "code",
   "execution_count": 47,
   "id": "8ff624cb",
   "metadata": {},
   "outputs": [
    {
     "data": {
      "text/plain": [
       "array(['M', 'B'], dtype=object)"
      ]
     },
     "execution_count": 47,
     "metadata": {},
     "output_type": "execute_result"
    }
   ],
   "source": [
    "df2['diagnosis'].unique()"
   ]
  },
  {
   "cell_type": "code",
   "execution_count": 48,
   "id": "46901907",
   "metadata": {},
   "outputs": [
    {
     "data": {
      "text/plain": [
       "array([1, 0], dtype=int8)"
      ]
     },
     "execution_count": 48,
     "metadata": {},
     "output_type": "execute_result"
    }
   ],
   "source": [
    "df2['diagnosis'] = df2['diagnosis'].astype('category').cat.codes\n",
    "df2['diagnosis'].unique()"
   ]
  },
  {
   "cell_type": "code",
   "execution_count": null,
   "id": "6609c34f",
   "metadata": {},
   "outputs": [
    {
     "name": "stdout",
     "output_type": "stream",
     "text": [
      "df2_clean.shape: (569, 31)\n",
      "X2.shape: (569, 30)  y2.shape: (569,)\n",
      "y2 dtype: int8\n",
      "y2 unique: [0 1]\n"
     ]
    }
   ],
   "source": [
    "#(force y2 to be a 1-D Series)\n",
    "cols_to_drop = [c for c in ['Unnamed: 32', 'id'] if c in df2.columns]\n",
    "df2_clean = df2.drop(columns=cols_to_drop).copy()\n",
    "\n",
    "#if object (M/B), convert to numeric category codes\n",
    "if df2_clean['diagnosis'].dtype == object:\n",
    "    df2_clean['diagnosis'] = df2_clean['diagnosis'].astype('category').cat.codes\n",
    "\n",
    "#force y2 as a Series (single bracket)\n",
    "X2 = df2_clean.drop(columns=['diagnosis'])\n",
    "y2 = df2_clean['diagnosis'] #1-D Series\n",
    "\n",
    "print(\"df2_clean.shape:\", df2_clean.shape)\n",
    "print(\"X2.shape:\", X2.shape, \" y2.shape:\", y2.shape)\n",
    "print(\"y2 dtype:\", y2.dtype)\n",
    "print(\"y2 unique:\", np.unique(y2))"
   ]
  },
  {
   "cell_type": "code",
   "execution_count": 56,
   "id": "65926ded",
   "metadata": {},
   "outputs": [
    {
     "name": "stdout",
     "output_type": "stream",
     "text": [
      "X2_train: (455, 30) X2_test: (114, 30)\n",
      "y2_train: (455,) y2_test: (114,)\n"
     ]
    }
   ],
   "source": [
    "X2_train, X2_test, y2_train, y2_test = train_test_split(X2, y2, test_size=0.2, random_state=42, stratify=y2)\n",
    "\n",
    "print(\"X2_train:\", X2_train.shape, \"X2_test:\", X2_test.shape)\n",
    "print(\"y2_train:\", y2_train.shape, \"y2_test:\", y2_test.shape)"
   ]
  },
  {
   "cell_type": "code",
   "execution_count": 57,
   "id": "896438d6",
   "metadata": {},
   "outputs": [
    {
     "name": "stdout",
     "output_type": "stream",
     "text": [
      "entropy training acc: 1.0000\n",
      "entropy testing acc: 0.9474\n"
     ]
    }
   ],
   "source": [
    "#dataset2 - entropy w/o pruning\n",
    "model = DecisionTreeClassifier(criterion='entropy')\n",
    "model.fit(X2_train, y2_train)\n",
    "\n",
    "y_train_pred = model.predict(X2_train)\n",
    "y_test_pred = model.predict(X2_test)\n",
    "\n",
    "train_acc = accuracy_score(y2_train, y_train_pred)\n",
    "test_acc  = accuracy_score(y2_test, y_test_pred)\n",
    "\n",
    "print(f\"entropy training acc: {train_acc:.4f}\")\n",
    "print(f\"entropy testing acc: {test_acc:.4f}\")"
   ]
  },
  {
   "cell_type": "code",
   "execution_count": 58,
   "id": "3d9f4b8a",
   "metadata": {},
   "outputs": [
    {
     "name": "stdout",
     "output_type": "stream",
     "text": [
      "entropy training acc w/ pruning: 0.9824\n",
      "entropy testing acc w/ pruning: 0.9649\n"
     ]
    }
   ],
   "source": [
    "#dataset2 - entropy w/ pruning\n",
    "model = DecisionTreeClassifier(criterion='entropy', ccp_alpha=0.015)\n",
    "model.fit(X2_train, y2_train)\n",
    "\n",
    "y_train_pred = model.predict(X2_train)\n",
    "y_test_pred = model.predict(X2_test)\n",
    "\n",
    "train_acc = accuracy_score(y2_train, y_train_pred)\n",
    "test_acc  = accuracy_score(y2_test, y_test_pred)\n",
    "\n",
    "print(f\"entropy training acc w/ pruning: {train_acc:.4f}\")\n",
    "print(f\"entropy testing acc w/ pruning: {test_acc:.4f}\")"
   ]
  },
  {
   "cell_type": "code",
   "execution_count": 60,
   "id": "6f4d72c9",
   "metadata": {},
   "outputs": [
    {
     "name": "stdout",
     "output_type": "stream",
     "text": [
      "gini training acc w/o pruning: 1.0000\n",
      "gini testing acc w/o pruning: 0.9211\n"
     ]
    }
   ],
   "source": [
    "#dataset2 - gini w/o pruning\n",
    "model = DecisionTreeClassifier(criterion='gini')\n",
    "model.fit(X2_train, y2_train)\n",
    "\n",
    "y_train_pred = model.predict(X2_train)\n",
    "y_test_pred = model.predict(X2_test)\n",
    "\n",
    "train_acc = accuracy_score(y2_train, y_train_pred)\n",
    "test_acc  = accuracy_score(y2_test, y_test_pred)\n",
    "\n",
    "print(f\"gini training acc w/o pruning: {train_acc:.4f}\")\n",
    "print(f\"gini testing acc w/o pruning: {test_acc:.4f}\")"
   ]
  },
  {
   "cell_type": "code",
   "execution_count": 61,
   "id": "cddff258",
   "metadata": {},
   "outputs": [
    {
     "name": "stdout",
     "output_type": "stream",
     "text": [
      "gini training acc w/ pruning: 0.9473\n",
      "gini testing acc w/ pruning: 0.9298\n"
     ]
    }
   ],
   "source": [
    "#dataset2 - gini w/ pruning\n",
    "model = DecisionTreeClassifier(criterion='gini', ccp_alpha=0.015)\n",
    "model.fit(X2_train, y2_train)\n",
    "\n",
    "y_train_pred = model.predict(X2_train)\n",
    "y_test_pred = model.predict(X2_test)\n",
    "\n",
    "train_acc = accuracy_score(y2_train, y_train_pred)\n",
    "test_acc  = accuracy_score(y2_test, y_test_pred)\n",
    "\n",
    "print(f\"gini training acc w/ pruning: {train_acc:.4f}\")\n",
    "print(f\"gini testing acc w/ pruning: {test_acc:.4f}\")"
   ]
  },
  {
   "cell_type": "code",
   "execution_count": 62,
   "id": "4a4e4706",
   "metadata": {},
   "outputs": [
    {
     "name": "stdout",
     "output_type": "stream",
     "text": [
      "wrong pred(s): 8\n",
      "correct pred(s): 106 out of 114\n"
     ]
    }
   ],
   "source": [
    "#corr vs wrong pred(s) for dataset2\n",
    "model.fit(X2_train, y2_train)\n",
    "y2_pred = model.predict(X2_test)\n",
    "\n",
    "corr = (y2_pred == y2_test).sum()\n",
    "total = len(y2_test)\n",
    "wrong = total - corr\n",
    "\n",
    "print(f\"wrong pred(s): {wrong}\")\n",
    "print(f\"correct pred(s): {corr} out of {total}\")"
   ]
  },
  {
   "cell_type": "code",
   "execution_count": 66,
   "id": "141088a2",
   "metadata": {},
   "outputs": [
    {
     "name": "stdout",
     "output_type": "stream",
     "text": [
      "df1 | entropy (no prune)\n",
      "  train acc: 1.0000 | test acc: 0.2414\n",
      "\n",
      "df1 | entropy (prune)\n",
      "  train acc: 1.0000 | test acc: 0.2414\n",
      "\n",
      "df1 | gini (no prune)\n",
      "  train acc: 1.0000 | test acc: 0.3103\n",
      "\n",
      "df1 | gini (prune)\n",
      "  train acc: 0.7845 | test acc: 0.2759\n",
      "\n",
      "df2 | entropy (no prune)\n",
      "  train acc: 1.0000 | test acc: 0.9561\n",
      "\n",
      "df2 | entropy (prune)\n",
      "  train acc: 0.9824 | test acc: 0.9649\n",
      "\n",
      "df2 | gini (no prune)\n",
      "  train acc: 1.0000 | test acc: 0.9298\n",
      "\n",
      "df2 | gini (prune)\n",
      "  train acc: 0.9473 | test acc: 0.9298\n",
      "\n"
     ]
    },
    {
     "data": {
      "image/png": "[encoded data removed]",
      "text/plain": [
       "<Figure size 1000x1500 with 8 Axes>"
      ]
     },
     "metadata": {},
     "output_type": "display_data"
    }
   ],
   "source": [
    "methods = [\n",
    "    (\"entropy (no prune)\", DecisionTreeClassifier(criterion=\"entropy\", random_state=42)),\n",
    "    (\"entropy (prune)\", DecisionTreeClassifier(criterion=\"entropy\", ccp_alpha=0.015, random_state=42)),\n",
    "    (\"gini (no prune)\", DecisionTreeClassifier(criterion=\"gini\", random_state=42)),\n",
    "    (\"gini (prune)\", DecisionTreeClassifier(criterion=\"gini\", ccp_alpha=0.015, random_state=42))\n",
    "]\n",
    "\n",
    "def run_methods(X_train, X_test, y_train, y_test, dataset_name):\n",
    "    results = {\"labels\": [], \"train_acc\": [], \"test_acc\": [], \"y_test_preds\": []}\n",
    "    \n",
    "    for label, model in methods:\n",
    "        model.fit(X_train, y_train)\n",
    "        y_train_pred = model.predict(X_train)\n",
    "        y_test_pred = model.predict(X_test)\n",
    "        train_acc = accuracy_score(y_train, y_train_pred)\n",
    "        test_acc = accuracy_score(y_test, y_test_pred)\n",
    "        \n",
    "        results[\"labels\"].append(label)\n",
    "        results[\"train_acc\"].append(train_acc)\n",
    "        results[\"test_acc\"].append(test_acc)\n",
    "        results[\"y_test_preds\"].append(y_test_pred)\n",
    "        \n",
    "        print(f\"{dataset_name} | {label}\")\n",
    "        print(f\"  train acc: {train_acc:.4f} | test acc: {test_acc:.4f}\\n\")\n",
    "    \n",
    "    return results\n",
    "\n",
    "results = {}\n",
    "\n",
    "results[\"df1\"] = run_methods(X1_train, X1_test, y1_train, y1_test, \"df1\")\n",
    "results[\"df2\"] = run_methods(X2_train, X2_test, y2_train, y2_test, \"df2\")\n",
    "\n",
    "\n",
    "plt.figure(figsize=(10, 15))\n",
    "\n",
    "for i in range(len(results[\"df1\"][\"labels\"])):\n",
    "    label = results[\"df1\"][\"labels\"][i]\n",
    "    \n",
    "    # Dataset1 values\n",
    "    t1 = results[\"df1\"][\"train_acc\"][i]\n",
    "    s1 = results[\"df1\"][\"test_acc\"][i]\n",
    "    # Dataset2 values\n",
    "    t2 = results[\"df2\"][\"train_acc\"][i]\n",
    "    s2 = results[\"df2\"][\"test_acc\"][i]\n",
    "    \n",
    "    # Left subplot = Dataset1\n",
    "    plt.subplot(4, 2, 2*i + 1)\n",
    "    bars = plt.bar([\"Train\", \"Test\"], [t1, s1])\n",
    "    plt.ylim(0, 1)\n",
    "    plt.title(f\"Data1 — {label}\")\n",
    "    for b in bars:\n",
    "        plt.text(b.get_x()+b.get_width()/2, b.get_height()+0.01, f\"{b.get_height():.2f}\", ha='center')\n",
    "    \n",
    "    # Right subplot = Dataset2\n",
    "    plt.subplot(4, 2, 2*i + 2)\n",
    "    bars = plt.bar([\"Train\", \"Test\"], [t2, s2])\n",
    "    plt.ylim(0, 1)\n",
    "    plt.title(f\"Data2 — {label}\")\n",
    "    for b in bars:\n",
    "        plt.text(b.get_x()+b.get_width()/2, b.get_height()+0.01, f\"{b.get_height():.2f}\", ha='center')\n",
    "\n",
    "plt.tight_layout()\n",
    "plt.show()\n",
    "        "
   ]
  }
 ],
 "metadata": {
  "kernelspec": {
   "display_name": "Python 3",
   "language": "python",
   "name": "python3"
  },
  "language_info": {
   "codemirror_mode": {
    "name": "ipython",
    "version": 3
   },
   "file_extension": ".py",
   "mimetype": "text/x-python",
   "name": "python",
   "nbconvert_exporter": "python",
   "pygments_lexer": "ipython3",
   "version": "3.13.5"
  }
 },
 "nbformat": 4,
 "nbformat_minor": 5
}
