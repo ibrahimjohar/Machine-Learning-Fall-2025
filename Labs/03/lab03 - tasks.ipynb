{
 "cells": [
  {
   "cell_type": "markdown",
   "id": "56ecadeb",
   "metadata": {},
   "source": [
    "#### Ibrahim Johar Farooqi\n",
    "#### 23K-0074\n",
    "#### ML - Lab 03 - Tasks"
   ]
  },
  {
   "cell_type": "markdown",
   "id": "997a4283",
   "metadata": {},
   "source": [
    "#### task 01"
   ]
  },
  {
   "cell_type": "markdown",
   "id": "828c7cf2",
   "metadata": {},
   "source": [
    "Occupancy dataset contains four attributes i-e \"Humidity, Light, CO2 and Humidity ratio\". \n",
    "\n",
    "Apply KNN to find if occupancy is possible or not (0 or 1) based on \"Humidity, Light and Humidity Ratio\" only. Train on \"Occupancy_train.txt\" and Test on \"Occupancy_test.txt\". You need to do the following then :\n",
    "- Run this KNN Algorithm for n_neighbors (K) from 1 to 10. You will get 10 different accuracies. Print all the accuracies. Then print the highest accuracy and also the value of K at which you got the highest accuracy."
   ]
  },
  {
   "cell_type": "code",
   "execution_count": 1,
   "id": "d8379c81",
   "metadata": {},
   "outputs": [],
   "source": [
    "import pandas as pd\n",
    "from sklearn.model_selection import train_test_split\n",
    "from sklearn.neighbors import KNeighborsClassifier\n",
    "from sklearn.metrics import accuracy_score\n",
    "\n",
    "#loading the training n testing dataset\n",
    "train_df = pd.read_csv(\"Occupancy_train.txt\")\n",
    "test_df = pd.read_csv(\"Occupancy_test.txt\")"
   ]
  },
  {
   "cell_type": "code",
   "execution_count": 7,
   "id": "e635d50f",
   "metadata": {},
   "outputs": [
    {
     "name": "stdout",
     "output_type": "stream",
     "text": [
      "training dataset:\n",
      "                  date  Temperature  Humidity  Light     CO2  HumidityRatio  Occupancy\n",
      "1  2015-02-04 17:51:00        23.18   27.2720  426.0  721.25       0.004793          1\n",
      "2  2015-02-04 17:51:59        23.15   27.2675  429.5  714.00       0.004783          1\n",
      "3  2015-02-04 17:53:00        23.15   27.2450  426.0  713.50       0.004779          1\n",
      "4  2015-02-04 17:54:00        23.15   27.2000  426.0  708.25       0.004772          1\n",
      "5  2015-02-04 17:55:00        23.10   27.2000  426.0  704.50       0.004757          1\n",
      "\n",
      "testing dataset:\n",
      "                    date  Temperature  Humidity       Light         CO2  HumidityRatio  Occupancy\n",
      "140  2015-02-02 14:19:00      23.7000    26.272  585.200000  749.200000       0.004764          1\n",
      "141  2015-02-02 14:19:59      23.7180    26.290  578.400000  760.400000       0.004773          1\n",
      "142  2015-02-02 14:21:00      23.7300    26.230  572.666667  769.666667       0.004765          1\n",
      "143  2015-02-02 14:22:00      23.7225    26.125  493.750000  774.750000       0.004744          1\n",
      "144  2015-02-02 14:23:00      23.7540    26.200  488.600000  779.000000       0.004767          1\n"
     ]
    }
   ],
   "source": [
    "pd.set_option(\"display.width\", 200)\n",
    "print(f\"training dataset:\\n{train_df.head()}\")\n",
    "print(f\"\\ntesting dataset:\\n{test_df.head()}\")"
   ]
  },
  {
   "cell_type": "code",
   "execution_count": 8,
   "id": "8dfc61d2",
   "metadata": {},
   "outputs": [],
   "source": [
    "#features n target\n",
    "features = [\"Humidity\", \"Light\", \"HumidityRatio\"]\n",
    "target = \"Occupancy\"\n",
    "\n",
    "X_train = train_df[features]\n",
    "y_train = train_df[target]\n",
    "\n",
    "X_test = test_df[features]\n",
    "y_test = test_df[target]"
   ]
  },
  {
   "cell_type": "code",
   "execution_count": 10,
   "id": "76593785",
   "metadata": {},
   "outputs": [
    {
     "name": "stdout",
     "output_type": "stream",
     "text": [
      "testing accuracy of k(1)= 0.94\n",
      "testing accuracy of k(2)= 0.925\n",
      "testing accuracy of k(3)= 0.957\n",
      "testing accuracy of k(4)= 0.945\n",
      "testing accuracy of k(5)= 0.955\n",
      "testing accuracy of k(6)= 0.953\n",
      "testing accuracy of k(7)= 0.963\n",
      "testing accuracy of k(8)= 0.961\n",
      "testing accuracy of k(9)= 0.965\n",
      "testing accuracy of k(10)= 0.965\n"
     ]
    }
   ],
   "source": [
    "accuracies = []\n",
    "#running loop for diff 'k' vals\n",
    "for k in range(1,11):\n",
    "    #initialising and training knn\n",
    "    knn = KNeighborsClassifier(n_neighbors=k)\n",
    "    knn.fit(X_train, y_train)\n",
    "    \n",
    "    #predicting on test set\n",
    "    y_pred = knn.predict(X_test)\n",
    "    \n",
    "    #calculating accuracy\n",
    "    acc_score = accuracy_score(y_test, y_pred)\n",
    "    accuracies.append(acc_score)\n",
    "    print(f\"testing accuracy of k({k})= {acc_score:.3}\")"
   ]
  },
  {
   "cell_type": "code",
   "execution_count": 12,
   "id": "2adfcd34",
   "metadata": {},
   "outputs": [
    {
     "name": "stdout",
     "output_type": "stream",
     "text": [
      "highest accuracy:0.965\n",
      "best k:9\n"
     ]
    }
   ],
   "source": [
    "highest_acc = max(accuracies)\n",
    "best_k = accuracies.index(highest_acc)\n",
    "print(f\"highest accuracy:{highest_acc:.3}\")\n",
    "print(f\"best k:{best_k + 1}\")"
   ]
  },
  {
   "cell_type": "markdown",
   "id": "815987e6",
   "metadata": {},
   "source": [
    "#### task 02"
   ]
  },
  {
   "cell_type": "markdown",
   "id": "ac7af4cf",
   "metadata": {},
   "source": [
    "Now instead of using built-in library, write your own code for kNN classifier from\n",
    "scratch. Run on iris dataset. Use 80/20 split. Print accuracy and confusion matrix at the end. You must use the following chi squared distance function\n",
    "\n",
    "### the Chi-square distance between two vectors **x** and **y** is:\n",
    "\n",
    "$$\n",
    "d(x, y) = \\sum_{i=1}^n \\frac{(x_i - y_i)^2}{x_i + y_i}\n",
    "$$\n",
    "\n",
    "- \\(x_i\\) and \\(y_i\\) are the values of the \\(i^{th}\\) feature.\n",
    "- denominator ensures that larger feature values don’t dominate the distance measure.\n"
   ]
  },
  {
   "cell_type": "code",
   "execution_count": 39,
   "id": "ac163106",
   "metadata": {},
   "outputs": [
    {
     "name": "stdout",
     "output_type": "stream",
     "text": [
      "k=1 - accuracy = 91.111%\n",
      "k=2 - accuracy = 91.111%\n",
      "k=3 - accuracy = 95.556%\n",
      "k=4 - accuracy = 93.333%\n",
      "k=5 - accuracy = 95.556%\n",
      "k=6 - accuracy = 93.333%\n",
      "k=7 - accuracy = 93.333%\n",
      "k=8 - accuracy = 93.333%\n",
      "k=9 - accuracy = 97.778%\n",
      "k=10 - accuracy = 93.333%\n",
      "best k:9\n",
      "highest accuracy: 97.778%\n",
      "\n",
      "confusion matrix:\n",
      "[[12  0  0]\n",
      " [ 0 14  1]\n",
      " [ 0  0 18]]\n"
     ]
    }
   ],
   "source": [
    "import numpy as np\n",
    "from sklearn.datasets import load_iris\n",
    "from sklearn.model_selection import train_test_split\n",
    "from sklearn.metrics import confusion_matrix, accuracy_score\n",
    "from collections import Counter\n",
    "\n",
    "iris = load_iris()\n",
    "X, y = iris.data, iris.target\n",
    "\n",
    "X_train, X_test, y_train, y_test = train_test_split(X, y, test_size=0.3, random_state=None)\n",
    "\n",
    "def chi_square_dist(x, y):\n",
    "    return np.sum(((x - y) ** 2) / (x + y))   \n",
    "\n",
    "#custom prediction function\n",
    "def knn_prediction(X_train, y_train, testing_sample, k=3):\n",
    "    distances = []\n",
    "    #calc dist from testing_sample to each training sample\n",
    "    for i in range(len(X_train)):\n",
    "        d = chi_square_dist(testing_sample, X_train[i])\n",
    "        distances.append((d, y_train[i])) #storing (dist,label)\n",
    "        \n",
    "    #sorting ascendingly the neigbors by dist\n",
    "    distances.sort(key=lambda x:x[0])\n",
    "    #selecting the top k NNs\n",
    "    neighbors = distances[:k]\n",
    "    targets = [label for _, label in neighbors]\n",
    "    #majority voting\n",
    "    most_common_target = Counter(targets).most_common(1)[0][0]\n",
    "    \n",
    "    return most_common_target\n",
    "\n",
    "accuracies = []\n",
    "for k in range(1,11):\n",
    "    predictions = []\n",
    "    corr = 0\n",
    "    \n",
    "    for i in range(len(X_test)):\n",
    "        pred = knn_prediction(X_train, y_train, X_test[i], k)\n",
    "        predictions.append(pred)\n",
    "        if pred == y_test[i]:\n",
    "            corr += 1\n",
    "            \n",
    "    accuracy = corr / len(y_test)\n",
    "    accuracies.append(accuracy)\n",
    "    print(f\"k={k} - accuracy = {accuracy * 100:.3f}%\")\n",
    "\n",
    "#finding best k\n",
    "highest_acc = max(accuracies)\n",
    "best_k = accuracies.index(highest_acc)+1\n",
    "print(f\"best k:{best_k}\")\n",
    "print(f\"highest accuracy: {highest_acc*100:.3f}%\")\n",
    "\n",
    "#get best_predictions\n",
    "best_predictions = [knn_prediction(X_train, y_train, x, best_k) for x in X_test]\n",
    "\n",
    "con_matrix = confusion_matrix(y_test, best_predictions)\n",
    "print(\"\\nconfusion matrix:\")\n",
    "print(con_matrix)\n",
    "    "
   ]
  },
  {
   "cell_type": "markdown",
   "id": "f425441e",
   "metadata": {},
   "source": [
    "#### task 03"
   ]
  },
  {
   "cell_type": "markdown",
   "id": "69475348",
   "metadata": {},
   "source": [
    "- Perform EDA\n",
    "- Check the dataset is balance or not (using target variable “Label”)\n",
    "- Check whether there is any empty records, categorical feature, duplicate records, if yes then handle this and give a brief explanation why you have chosen this technique in a text cell or “jupyter/colab”\n",
    "- Check the correlation of your dataset and perform feature selection using Pearson Correlation\n",
    "- Analyze your dataset and think if feature scaling is required or not? If yes then apply any scaling technique based on your distribution.\n",
    "- Split your dataset in training , testing and validation. Train split will be 80% and test will be 20% . In validation split your training samples will be 70% and validation set will be 30%. Briefly describe why we use validation set in a text cell. Declare Random_state=0\n",
    "- Apply KNN and check model training and testing accuracy.\n",
    "- Compare the accuracies by trying different metrics, combine all the training and testing accuracies of Euclidean, Manhattan etc. to compare their performance. Make a critical analysis what you have observed and where we have used different metrics?\n",
    "- Apply KNN and check model training and testing accuracy."
   ]
  },
  {
   "cell_type": "code",
   "execution_count": 40,
   "id": "fe04b8d2",
   "metadata": {},
   "outputs": [
    {
     "name": "stdout",
     "output_type": "stream",
     "text": [
      "shape of dataset: (1000, 26)\n"
     ]
    }
   ],
   "source": [
    "import pandas as pd\n",
    "\n",
    "df = pd.read_csv(\"cancer patient data sets.csv\")\n",
    "\n",
    "print(f\"shape of dataset: {df.shape}\")"
   ]
  },
  {
   "cell_type": "code",
   "execution_count": 41,
   "id": "d9b277d3",
   "metadata": {},
   "outputs": [
    {
     "data": {
      "text/plain": [
       "Index(['index', 'Patient Id', 'Age', 'Gender', 'Air Pollution', 'Alcohol use', 'Dust Allergy', 'OccuPational Hazards', 'Genetic Risk', 'chronic Lung Disease', 'Balanced Diet', 'Obesity', 'Smoking',\n",
       "       'Passive Smoker', 'Chest Pain', 'Coughing of Blood', 'Fatigue', 'Weight Loss', 'Shortness of Breath', 'Wheezing', 'Swallowing Difficulty', 'Clubbing of Finger Nails', 'Frequent Cold',\n",
       "       'Dry Cough', 'Snoring', 'Level'],\n",
       "      dtype='object')"
      ]
     },
     "execution_count": 41,
     "metadata": {},
     "output_type": "execute_result"
    }
   ],
   "source": [
    "df.columns"
   ]
  },
  {
   "cell_type": "code",
   "execution_count": 42,
   "id": "7a1ff41e",
   "metadata": {},
   "outputs": [
    {
     "data": {
      "text/html": [
       "<div>\n",
       "<style scoped>\n",
       "    .dataframe tbody tr th:only-of-type {\n",
       "        vertical-align: middle;\n",
       "    }\n",
       "\n",
       "    .dataframe tbody tr th {\n",
       "        vertical-align: top;\n",
       "    }\n",
       "\n",
       "    .dataframe thead th {\n",
       "        text-align: right;\n",
       "    }\n",
       "</style>\n",
       "<table border=\"1\" class=\"dataframe\">\n",
       "  <thead>\n",
       "    <tr style=\"text-align: right;\">\n",
       "      <th></th>\n",
       "      <th>index</th>\n",
       "      <th>Patient Id</th>\n",
       "      <th>Age</th>\n",
       "      <th>Gender</th>\n",
       "      <th>Air Pollution</th>\n",
       "      <th>Alcohol use</th>\n",
       "      <th>Dust Allergy</th>\n",
       "      <th>OccuPational Hazards</th>\n",
       "      <th>Genetic Risk</th>\n",
       "      <th>chronic Lung Disease</th>\n",
       "      <th>Balanced Diet</th>\n",
       "      <th>Obesity</th>\n",
       "      <th>Smoking</th>\n",
       "      <th>Passive Smoker</th>\n",
       "      <th>Chest Pain</th>\n",
       "      <th>Coughing of Blood</th>\n",
       "      <th>Fatigue</th>\n",
       "      <th>Weight Loss</th>\n",
       "      <th>Shortness of Breath</th>\n",
       "      <th>Wheezing</th>\n",
       "      <th>Swallowing Difficulty</th>\n",
       "      <th>Clubbing of Finger Nails</th>\n",
       "      <th>Frequent Cold</th>\n",
       "      <th>Dry Cough</th>\n",
       "      <th>Snoring</th>\n",
       "      <th>Level</th>\n",
       "    </tr>\n",
       "  </thead>\n",
       "  <tbody>\n",
       "    <tr>\n",
       "      <th>0</th>\n",
       "      <td>0</td>\n",
       "      <td>P1</td>\n",
       "      <td>33</td>\n",
       "      <td>1</td>\n",
       "      <td>2</td>\n",
       "      <td>4</td>\n",
       "      <td>5</td>\n",
       "      <td>4</td>\n",
       "      <td>3</td>\n",
       "      <td>2</td>\n",
       "      <td>2</td>\n",
       "      <td>4</td>\n",
       "      <td>3</td>\n",
       "      <td>2</td>\n",
       "      <td>2</td>\n",
       "      <td>4</td>\n",
       "      <td>3</td>\n",
       "      <td>4</td>\n",
       "      <td>2</td>\n",
       "      <td>2</td>\n",
       "      <td>3</td>\n",
       "      <td>1</td>\n",
       "      <td>2</td>\n",
       "      <td>3</td>\n",
       "      <td>4</td>\n",
       "      <td>Low</td>\n",
       "    </tr>\n",
       "    <tr>\n",
       "      <th>1</th>\n",
       "      <td>1</td>\n",
       "      <td>P10</td>\n",
       "      <td>17</td>\n",
       "      <td>1</td>\n",
       "      <td>3</td>\n",
       "      <td>1</td>\n",
       "      <td>5</td>\n",
       "      <td>3</td>\n",
       "      <td>4</td>\n",
       "      <td>2</td>\n",
       "      <td>2</td>\n",
       "      <td>2</td>\n",
       "      <td>2</td>\n",
       "      <td>4</td>\n",
       "      <td>2</td>\n",
       "      <td>3</td>\n",
       "      <td>1</td>\n",
       "      <td>3</td>\n",
       "      <td>7</td>\n",
       "      <td>8</td>\n",
       "      <td>6</td>\n",
       "      <td>2</td>\n",
       "      <td>1</td>\n",
       "      <td>7</td>\n",
       "      <td>2</td>\n",
       "      <td>Medium</td>\n",
       "    </tr>\n",
       "    <tr>\n",
       "      <th>2</th>\n",
       "      <td>2</td>\n",
       "      <td>P100</td>\n",
       "      <td>35</td>\n",
       "      <td>1</td>\n",
       "      <td>4</td>\n",
       "      <td>5</td>\n",
       "      <td>6</td>\n",
       "      <td>5</td>\n",
       "      <td>5</td>\n",
       "      <td>4</td>\n",
       "      <td>6</td>\n",
       "      <td>7</td>\n",
       "      <td>2</td>\n",
       "      <td>3</td>\n",
       "      <td>4</td>\n",
       "      <td>8</td>\n",
       "      <td>8</td>\n",
       "      <td>7</td>\n",
       "      <td>9</td>\n",
       "      <td>2</td>\n",
       "      <td>1</td>\n",
       "      <td>4</td>\n",
       "      <td>6</td>\n",
       "      <td>7</td>\n",
       "      <td>2</td>\n",
       "      <td>High</td>\n",
       "    </tr>\n",
       "    <tr>\n",
       "      <th>3</th>\n",
       "      <td>3</td>\n",
       "      <td>P1000</td>\n",
       "      <td>37</td>\n",
       "      <td>1</td>\n",
       "      <td>7</td>\n",
       "      <td>7</td>\n",
       "      <td>7</td>\n",
       "      <td>7</td>\n",
       "      <td>6</td>\n",
       "      <td>7</td>\n",
       "      <td>7</td>\n",
       "      <td>7</td>\n",
       "      <td>7</td>\n",
       "      <td>7</td>\n",
       "      <td>7</td>\n",
       "      <td>8</td>\n",
       "      <td>4</td>\n",
       "      <td>2</td>\n",
       "      <td>3</td>\n",
       "      <td>1</td>\n",
       "      <td>4</td>\n",
       "      <td>5</td>\n",
       "      <td>6</td>\n",
       "      <td>7</td>\n",
       "      <td>5</td>\n",
       "      <td>High</td>\n",
       "    </tr>\n",
       "    <tr>\n",
       "      <th>4</th>\n",
       "      <td>4</td>\n",
       "      <td>P101</td>\n",
       "      <td>46</td>\n",
       "      <td>1</td>\n",
       "      <td>6</td>\n",
       "      <td>8</td>\n",
       "      <td>7</td>\n",
       "      <td>7</td>\n",
       "      <td>7</td>\n",
       "      <td>6</td>\n",
       "      <td>7</td>\n",
       "      <td>7</td>\n",
       "      <td>8</td>\n",
       "      <td>7</td>\n",
       "      <td>7</td>\n",
       "      <td>9</td>\n",
       "      <td>3</td>\n",
       "      <td>2</td>\n",
       "      <td>4</td>\n",
       "      <td>1</td>\n",
       "      <td>4</td>\n",
       "      <td>2</td>\n",
       "      <td>4</td>\n",
       "      <td>2</td>\n",
       "      <td>3</td>\n",
       "      <td>High</td>\n",
       "    </tr>\n",
       "  </tbody>\n",
       "</table>\n",
       "</div>"
      ],
      "text/plain": [
       "   index Patient Id  Age  Gender  Air Pollution  Alcohol use  Dust Allergy  OccuPational Hazards  Genetic Risk  chronic Lung Disease  Balanced Diet  Obesity  Smoking  Passive Smoker  Chest Pain  \\\n",
       "0      0         P1   33       1              2            4             5                     4             3                     2              2        4        3               2           2   \n",
       "1      1        P10   17       1              3            1             5                     3             4                     2              2        2        2               4           2   \n",
       "2      2       P100   35       1              4            5             6                     5             5                     4              6        7        2               3           4   \n",
       "3      3      P1000   37       1              7            7             7                     7             6                     7              7        7        7               7           7   \n",
       "4      4       P101   46       1              6            8             7                     7             7                     6              7        7        8               7           7   \n",
       "\n",
       "   Coughing of Blood  Fatigue  Weight Loss  Shortness of Breath  Wheezing  Swallowing Difficulty  Clubbing of Finger Nails  Frequent Cold  Dry Cough  Snoring   Level  \n",
       "0                  4        3            4                    2         2                      3                         1              2          3        4     Low  \n",
       "1                  3        1            3                    7         8                      6                         2              1          7        2  Medium  \n",
       "2                  8        8            7                    9         2                      1                         4              6          7        2    High  \n",
       "3                  8        4            2                    3         1                      4                         5              6          7        5    High  \n",
       "4                  9        3            2                    4         1                      4                         2              4          2        3    High  "
      ]
     },
     "execution_count": 42,
     "metadata": {},
     "output_type": "execute_result"
    }
   ],
   "source": [
    "df.head()"
   ]
  },
  {
   "cell_type": "code",
   "execution_count": 43,
   "id": "08830b47",
   "metadata": {},
   "outputs": [
    {
     "name": "stdout",
     "output_type": "stream",
     "text": [
      "<class 'pandas.core.frame.DataFrame'>\n",
      "RangeIndex: 1000 entries, 0 to 999\n",
      "Data columns (total 26 columns):\n",
      " #   Column                    Non-Null Count  Dtype \n",
      "---  ------                    --------------  ----- \n",
      " 0   index                     1000 non-null   int64 \n",
      " 1   Patient Id                1000 non-null   object\n",
      " 2   Age                       1000 non-null   int64 \n",
      " 3   Gender                    1000 non-null   int64 \n",
      " 4   Air Pollution             1000 non-null   int64 \n",
      " 5   Alcohol use               1000 non-null   int64 \n",
      " 6   Dust Allergy              1000 non-null   int64 \n",
      " 7   OccuPational Hazards      1000 non-null   int64 \n",
      " 8   Genetic Risk              1000 non-null   int64 \n",
      " 9   chronic Lung Disease      1000 non-null   int64 \n",
      " 10  Balanced Diet             1000 non-null   int64 \n",
      " 11  Obesity                   1000 non-null   int64 \n",
      " 12  Smoking                   1000 non-null   int64 \n",
      " 13  Passive Smoker            1000 non-null   int64 \n",
      " 14  Chest Pain                1000 non-null   int64 \n",
      " 15  Coughing of Blood         1000 non-null   int64 \n",
      " 16  Fatigue                   1000 non-null   int64 \n",
      " 17  Weight Loss               1000 non-null   int64 \n",
      " 18  Shortness of Breath       1000 non-null   int64 \n",
      " 19  Wheezing                  1000 non-null   int64 \n",
      " 20  Swallowing Difficulty     1000 non-null   int64 \n",
      " 21  Clubbing of Finger Nails  1000 non-null   int64 \n",
      " 22  Frequent Cold             1000 non-null   int64 \n",
      " 23  Dry Cough                 1000 non-null   int64 \n",
      " 24  Snoring                   1000 non-null   int64 \n",
      " 25  Level                     1000 non-null   object\n",
      "dtypes: int64(24), object(2)\n",
      "memory usage: 203.3+ KB\n"
     ]
    }
   ],
   "source": [
    "df.info()"
   ]
  },
  {
   "cell_type": "code",
   "execution_count": 46,
   "id": "b9eb6794",
   "metadata": {},
   "outputs": [
    {
     "name": "stdout",
     "output_type": "stream",
     "text": [
      "missing vals per col:\n",
      " index                       0\n",
      "Patient Id                  0\n",
      "Age                         0\n",
      "Gender                      0\n",
      "Air Pollution               0\n",
      "Alcohol use                 0\n",
      "Dust Allergy                0\n",
      "OccuPational Hazards        0\n",
      "Genetic Risk                0\n",
      "chronic Lung Disease        0\n",
      "Balanced Diet               0\n",
      "Obesity                     0\n",
      "Smoking                     0\n",
      "Passive Smoker              0\n",
      "Chest Pain                  0\n",
      "Coughing of Blood           0\n",
      "Fatigue                     0\n",
      "Weight Loss                 0\n",
      "Shortness of Breath         0\n",
      "Wheezing                    0\n",
      "Swallowing Difficulty       0\n",
      "Clubbing of Finger Nails    0\n",
      "Frequent Cold               0\n",
      "Dry Cough                   0\n",
      "Snoring                     0\n",
      "Level                       0\n",
      "dtype: int64\n",
      "\n",
      "num of duplicate rows:\n",
      " 0\n",
      "\n",
      "target distribution (Level):\n",
      "Level\n",
      "High      36.5\n",
      "Medium    33.2\n",
      "Low       30.3\n",
      "Name: proportion, dtype: float64\n"
     ]
    }
   ],
   "source": [
    "#checking for missing vals, duplicate row, distribution of target var(level)\n",
    "print(\"missing vals per col:\\n\", df.isnull().sum())\n",
    "print(\"\\nnum of duplicate rows:\\n\", df.duplicated().sum())\n",
    "print(\"\\ntarget distribution (Level):\")\n",
    "print(df[\"Level\"].value_counts(normalize=True)*100)"
   ]
  },
  {
   "cell_type": "code",
   "execution_count": 50,
   "id": "671bbbba",
   "metadata": {},
   "outputs": [
    {
     "data": {
      "image/png": "[encoded data removed]",
      "text/plain": [
       "<Figure size 640x480 with 1 Axes>"
      ]
     },
     "metadata": {},
     "output_type": "display_data"
    }
   ],
   "source": [
    "import matplotlib.pyplot as plt\n",
    "\n",
    "df[\"Level\"].value_counts().plot(\n",
    "    kind=\"bar\", color=[\"skyblue\", \"salmon\", \"lightgreen\"]\n",
    ")\n",
    "plt.title(\"Target Distribution (Level)\")\n",
    "plt.xlabel(\"Level\")\n",
    "plt.ylabel(\"Count\")\n",
    "plt.show()"
   ]
  },
  {
   "cell_type": "markdown",
   "id": "54130127",
   "metadata": {},
   "source": [
    "the Level values are balanced well"
   ]
  },
  {
   "cell_type": "code",
   "execution_count": 47,
   "id": "ddf2e0c6",
   "metadata": {},
   "outputs": [
    {
     "name": "stdout",
     "output_type": "stream",
     "text": [
      "Age                          int64\n",
      "Gender                       int64\n",
      "Air Pollution                int64\n",
      "Alcohol use                  int64\n",
      "Dust Allergy                 int64\n",
      "OccuPational Hazards         int64\n",
      "Genetic Risk                 int64\n",
      "chronic Lung Disease         int64\n",
      "Balanced Diet                int64\n",
      "Obesity                      int64\n",
      "Smoking                      int64\n",
      "Passive Smoker               int64\n",
      "Chest Pain                   int64\n",
      "Coughing of Blood            int64\n",
      "Fatigue                      int64\n",
      "Weight Loss                  int64\n",
      "Shortness of Breath          int64\n",
      "Wheezing                     int64\n",
      "Swallowing Difficulty        int64\n",
      "Clubbing of Finger Nails     int64\n",
      "Frequent Cold                int64\n",
      "Dry Cough                    int64\n",
      "Snoring                      int64\n",
      "Level                       object\n",
      "dtype: object\n"
     ]
    }
   ],
   "source": [
    "df = df.drop(columns=['index', 'Patient Id'])\n",
    "print(df.dtypes)"
   ]
  },
  {
   "cell_type": "code",
   "execution_count": 48,
   "id": "7fb49777",
   "metadata": {},
   "outputs": [
    {
     "data": {
      "text/html": [
       "<div>\n",
       "<style scoped>\n",
       "    .dataframe tbody tr th:only-of-type {\n",
       "        vertical-align: middle;\n",
       "    }\n",
       "\n",
       "    .dataframe tbody tr th {\n",
       "        vertical-align: top;\n",
       "    }\n",
       "\n",
       "    .dataframe thead th {\n",
       "        text-align: right;\n",
       "    }\n",
       "</style>\n",
       "<table border=\"1\" class=\"dataframe\">\n",
       "  <thead>\n",
       "    <tr style=\"text-align: right;\">\n",
       "      <th></th>\n",
       "      <th>Age</th>\n",
       "      <th>Gender</th>\n",
       "      <th>Air Pollution</th>\n",
       "      <th>Alcohol use</th>\n",
       "      <th>Dust Allergy</th>\n",
       "      <th>OccuPational Hazards</th>\n",
       "      <th>Genetic Risk</th>\n",
       "      <th>chronic Lung Disease</th>\n",
       "      <th>Balanced Diet</th>\n",
       "      <th>Obesity</th>\n",
       "      <th>Smoking</th>\n",
       "      <th>Passive Smoker</th>\n",
       "      <th>Chest Pain</th>\n",
       "      <th>Coughing of Blood</th>\n",
       "      <th>Fatigue</th>\n",
       "      <th>Weight Loss</th>\n",
       "      <th>Shortness of Breath</th>\n",
       "      <th>Wheezing</th>\n",
       "      <th>Swallowing Difficulty</th>\n",
       "      <th>Clubbing of Finger Nails</th>\n",
       "      <th>Frequent Cold</th>\n",
       "      <th>Dry Cough</th>\n",
       "      <th>Snoring</th>\n",
       "      <th>Level</th>\n",
       "    </tr>\n",
       "  </thead>\n",
       "  <tbody>\n",
       "    <tr>\n",
       "      <th>0</th>\n",
       "      <td>33</td>\n",
       "      <td>1</td>\n",
       "      <td>2</td>\n",
       "      <td>4</td>\n",
       "      <td>5</td>\n",
       "      <td>4</td>\n",
       "      <td>3</td>\n",
       "      <td>2</td>\n",
       "      <td>2</td>\n",
       "      <td>4</td>\n",
       "      <td>3</td>\n",
       "      <td>2</td>\n",
       "      <td>2</td>\n",
       "      <td>4</td>\n",
       "      <td>3</td>\n",
       "      <td>4</td>\n",
       "      <td>2</td>\n",
       "      <td>2</td>\n",
       "      <td>3</td>\n",
       "      <td>1</td>\n",
       "      <td>2</td>\n",
       "      <td>3</td>\n",
       "      <td>4</td>\n",
       "      <td>Low</td>\n",
       "    </tr>\n",
       "    <tr>\n",
       "      <th>1</th>\n",
       "      <td>17</td>\n",
       "      <td>1</td>\n",
       "      <td>3</td>\n",
       "      <td>1</td>\n",
       "      <td>5</td>\n",
       "      <td>3</td>\n",
       "      <td>4</td>\n",
       "      <td>2</td>\n",
       "      <td>2</td>\n",
       "      <td>2</td>\n",
       "      <td>2</td>\n",
       "      <td>4</td>\n",
       "      <td>2</td>\n",
       "      <td>3</td>\n",
       "      <td>1</td>\n",
       "      <td>3</td>\n",
       "      <td>7</td>\n",
       "      <td>8</td>\n",
       "      <td>6</td>\n",
       "      <td>2</td>\n",
       "      <td>1</td>\n",
       "      <td>7</td>\n",
       "      <td>2</td>\n",
       "      <td>Medium</td>\n",
       "    </tr>\n",
       "    <tr>\n",
       "      <th>2</th>\n",
       "      <td>35</td>\n",
       "      <td>1</td>\n",
       "      <td>4</td>\n",
       "      <td>5</td>\n",
       "      <td>6</td>\n",
       "      <td>5</td>\n",
       "      <td>5</td>\n",
       "      <td>4</td>\n",
       "      <td>6</td>\n",
       "      <td>7</td>\n",
       "      <td>2</td>\n",
       "      <td>3</td>\n",
       "      <td>4</td>\n",
       "      <td>8</td>\n",
       "      <td>8</td>\n",
       "      <td>7</td>\n",
       "      <td>9</td>\n",
       "      <td>2</td>\n",
       "      <td>1</td>\n",
       "      <td>4</td>\n",
       "      <td>6</td>\n",
       "      <td>7</td>\n",
       "      <td>2</td>\n",
       "      <td>High</td>\n",
       "    </tr>\n",
       "    <tr>\n",
       "      <th>3</th>\n",
       "      <td>37</td>\n",
       "      <td>1</td>\n",
       "      <td>7</td>\n",
       "      <td>7</td>\n",
       "      <td>7</td>\n",
       "      <td>7</td>\n",
       "      <td>6</td>\n",
       "      <td>7</td>\n",
       "      <td>7</td>\n",
       "      <td>7</td>\n",
       "      <td>7</td>\n",
       "      <td>7</td>\n",
       "      <td>7</td>\n",
       "      <td>8</td>\n",
       "      <td>4</td>\n",
       "      <td>2</td>\n",
       "      <td>3</td>\n",
       "      <td>1</td>\n",
       "      <td>4</td>\n",
       "      <td>5</td>\n",
       "      <td>6</td>\n",
       "      <td>7</td>\n",
       "      <td>5</td>\n",
       "      <td>High</td>\n",
       "    </tr>\n",
       "    <tr>\n",
       "      <th>4</th>\n",
       "      <td>46</td>\n",
       "      <td>1</td>\n",
       "      <td>6</td>\n",
       "      <td>8</td>\n",
       "      <td>7</td>\n",
       "      <td>7</td>\n",
       "      <td>7</td>\n",
       "      <td>6</td>\n",
       "      <td>7</td>\n",
       "      <td>7</td>\n",
       "      <td>8</td>\n",
       "      <td>7</td>\n",
       "      <td>7</td>\n",
       "      <td>9</td>\n",
       "      <td>3</td>\n",
       "      <td>2</td>\n",
       "      <td>4</td>\n",
       "      <td>1</td>\n",
       "      <td>4</td>\n",
       "      <td>2</td>\n",
       "      <td>4</td>\n",
       "      <td>2</td>\n",
       "      <td>3</td>\n",
       "      <td>High</td>\n",
       "    </tr>\n",
       "  </tbody>\n",
       "</table>\n",
       "</div>"
      ],
      "text/plain": [
       "   Age  Gender  Air Pollution  Alcohol use  Dust Allergy  OccuPational Hazards  Genetic Risk  chronic Lung Disease  Balanced Diet  Obesity  Smoking  Passive Smoker  Chest Pain  Coughing of Blood  \\\n",
       "0   33       1              2            4             5                     4             3                     2              2        4        3               2           2                  4   \n",
       "1   17       1              3            1             5                     3             4                     2              2        2        2               4           2                  3   \n",
       "2   35       1              4            5             6                     5             5                     4              6        7        2               3           4                  8   \n",
       "3   37       1              7            7             7                     7             6                     7              7        7        7               7           7                  8   \n",
       "4   46       1              6            8             7                     7             7                     6              7        7        8               7           7                  9   \n",
       "\n",
       "   Fatigue  Weight Loss  Shortness of Breath  Wheezing  Swallowing Difficulty  Clubbing of Finger Nails  Frequent Cold  Dry Cough  Snoring   Level  \n",
       "0        3            4                    2         2                      3                         1              2          3        4     Low  \n",
       "1        1            3                    7         8                      6                         2              1          7        2  Medium  \n",
       "2        8            7                    9         2                      1                         4              6          7        2    High  \n",
       "3        4            2                    3         1                      4                         5              6          7        5    High  \n",
       "4        3            2                    4         1                      4                         2              4          2        3    High  "
      ]
     },
     "execution_count": 48,
     "metadata": {},
     "output_type": "execute_result"
    }
   ],
   "source": [
    "df.head()"
   ]
  },
  {
   "cell_type": "code",
   "execution_count": 51,
   "id": "977c2779",
   "metadata": {},
   "outputs": [
    {
     "name": "stdout",
     "output_type": "stream",
     "text": [
      "features ranked by correlation strength w/ Level:\n",
      "\n",
      "Obesity                     0.827435\n",
      "Coughing of Blood           0.782092\n",
      "Alcohol use                 0.718710\n",
      "Dust Allergy                0.713839\n",
      "Balanced Diet               0.706273\n",
      "Passive Smoker              0.703594\n",
      "Genetic Risk                0.701303\n",
      "OccuPational Hazards        0.673255\n",
      "Chest Pain                  0.645461\n",
      "Air Pollution               0.636038\n",
      "Fatigue                     0.625114\n",
      "chronic Lung Disease        0.609971\n",
      "Smoking                     0.519530\n",
      "Shortness of Breath         0.497024\n",
      "Frequent Cold               0.444017\n",
      "Dry Cough                   0.373968\n",
      "Weight Loss                 0.352738\n",
      "Snoring                     0.289366\n",
      "Clubbing of Finger Nails    0.280063\n",
      "Swallowing Difficulty       0.249142\n",
      "Wheezing                    0.242794\n",
      "Gender                     -0.164985\n",
      "Age                         0.060048\n",
      "Name: Level_encoded, dtype: float64\n"
     ]
    }
   ],
   "source": [
    "df_encoded = df.copy()\n",
    "df_encoded[\"Level_encoded\"] = df_encoded['Level'].map({\"Low\": 0, \"Medium\": 1, \"High\": 2})\n",
    "corr_matrix = df_encoded.select_dtypes(include=['int64','float64']).corr()\n",
    "level_corr = corr_matrix[\"Level_encoded\"].drop(\"Level_encoded\").sort_values(key=abs, ascending=False)\n",
    "\n",
    "print(\"features ranked by correlation strength w/ Level:\\n\")\n",
    "print(level_corr)"
   ]
  },
  {
   "cell_type": "markdown",
   "id": "a037031c",
   "metadata": {},
   "source": [
    "'obesity' is the most influential feature on Level"
   ]
  },
  {
   "cell_type": "code",
   "execution_count": 52,
   "id": "3c860235",
   "metadata": {},
   "outputs": [
    {
     "name": "stdout",
     "output_type": "stream",
     "text": [
      "candidate features (|corr| > 0.30):\n",
      "['Air Pollution', 'Alcohol use', 'Dust Allergy', 'OccuPational Hazards', 'Genetic Risk', 'chronic Lung Disease', 'Balanced Diet', 'Obesity', 'Smoking', 'Passive Smoker', 'Chest Pain', 'Coughing of Blood', 'Fatigue', 'Weight Loss', 'Shortness of Breath', 'Frequent Cold', 'Dry Cough']\n"
     ]
    }
   ],
   "source": [
    "#select features whose absolute correlation with target is > 0.30\n",
    "corr_matrix = df_encoded.select_dtypes(include=['int64', 'float64']).corr()\n",
    "level_corr = corr_matrix[\"Level_encoded\"].drop(\"Level_encoded\")\n",
    "corr_threshold = 0.30\n",
    "selected_features = level_corr[abs(level_corr) > corr_threshold].index.tolist()\n",
    "\n",
    "print(\"candidate features (|corr| > 0.30):\")\n",
    "print(selected_features)"
   ]
  },
  {
   "cell_type": "code",
   "execution_count": 53,
   "id": "458592c5",
   "metadata": {},
   "outputs": [
    {
     "name": "stdout",
     "output_type": "stream",
     "text": [
      "highly inter-correlated columns (candidates to remove):\n",
      "['OccuPational Hazards', 'Genetic Risk', 'chronic Lung Disease']\n"
     ]
    }
   ],
   "source": [
    "#find highly correlated pairs among numeric columns and mark drop-candidates\n",
    "#(we'll consider correlation > 0.85 as too redundant)\n",
    "upper = corr_matrix.where(np.triu(np.ones(corr_matrix.shape), k=1).astype(bool))\n",
    "multi_corr_threshold = 0.85\n",
    "to_drop = [col for col in upper.columns if any(upper[col].abs() > multi_corr_threshold)]\n",
    "\n",
    "print(\"highly inter-correlated columns (candidates to remove):\")\n",
    "print(to_drop)"
   ]
  },
  {
   "cell_type": "code",
   "execution_count": 54,
   "id": "e7f88ec9",
   "metadata": {},
   "outputs": [
    {
     "name": "stdout",
     "output_type": "stream",
     "text": [
      "final features to use: ['Air Pollution', 'Alcohol use', 'Dust Allergy', 'Balanced Diet', 'Obesity', 'Smoking', 'Passive Smoker', 'Chest Pain', 'Coughing of Blood', 'Fatigue', 'Weight Loss', 'Shortness of Breath', 'Frequent Cold', 'Dry Cough']\n"
     ]
    }
   ],
   "source": [
    "#creating final_features by removing highly correlated candidates from selected_features\n",
    "final_features = [f for f in selected_features if f not in to_drop]\n",
    "if len(final_features) == 0:\n",
    "    #if nothing left, take top 6 by abs correlation\n",
    "    final_features = level_corr.abs().sort_values(ascending=False).head(6).index.tolist()\n",
    "    print(\"using top 6 features because all selected were flagged\")\n",
    "print(\"final features to use:\", final_features)"
   ]
  },
  {
   "cell_type": "code",
   "execution_count": 55,
   "id": "c05bd78e",
   "metadata": {},
   "outputs": [
    {
     "name": "stdout",
     "output_type": "stream",
     "text": [
      "shapes -> train-sub: (560, 14) val: (240, 14) test: (200, 14)\n"
     ]
    }
   ],
   "source": [
    "#prepare X and y\n",
    "X = df_encoded[final_features].copy()\n",
    "y = df_encoded[\"Level_encoded\"].copy()\n",
    "\n",
    "#split: 80% train, 20% test, then 30% of train -> validation\n",
    "from sklearn.model_selection import train_test_split\n",
    "\n",
    "X_train, X_test, y_train, y_test = train_test_split(X, y, test_size=0.20, random_state=0, stratify=y)\n",
    "\n",
    "X_train_sub, X_val, y_train_sub, y_val = train_test_split(X_train, y_train, test_size=0.30, random_state=0, stratify=y_train)\n",
    "\n",
    "print(\"shapes -> train-sub:\", X_train_sub.shape, \"val:\", X_val.shape, \"test:\", X_test.shape)"
   ]
  },
  {
   "cell_type": "code",
   "execution_count": 56,
   "id": "7880e3dc",
   "metadata": {},
   "outputs": [],
   "source": [
    "from sklearn.preprocessing import StandardScaler\n",
    "\n",
    "scaler = StandardScaler()\n",
    "X_train_sub_scaled = scaler.fit_transform(X_train_sub)\n",
    "X_val_scaled = scaler.transform(X_val)\n",
    "X_test_scaled = scaler.transform(X_test)"
   ]
  },
  {
   "cell_type": "code",
   "execution_count": 60,
   "id": "8ddc00d1",
   "metadata": {},
   "outputs": [
    {
     "name": "stdout",
     "output_type": "stream",
     "text": [
      "results table:\n",
      "      metric  train acc  val acc  test acc\n",
      "0  Euclidean        1.0      1.0       1.0\n",
      "1  Manhattan        1.0      1.0       1.0\n"
     ]
    }
   ],
   "source": [
    "#compare Euclidean (p=2) and Manhattan (p=1) with k=5\n",
    "metrics = {\"Euclidean\": 2, \"Manhattan\": 1}\n",
    "results = []\n",
    "\n",
    "for name, p in metrics.items():\n",
    "    knn = KNeighborsClassifier(n_neighbors=5, p=p)\n",
    "    knn.fit(X_train_sub_scaled, y_train_sub)\n",
    "    train_acc = accuracy_score(y_train_sub, knn.predict(X_train_sub_scaled))\n",
    "    val_acc = accuracy_score(y_val, knn.predict(X_val_scaled))\n",
    "    test_acc = accuracy_score(y_test, knn.predict(X_test_scaled))\n",
    "    results.append([name, train_acc, val_acc, test_acc])\n",
    "    \n",
    "results_df = pd.DataFrame(results, columns=[\"metric\", \"train acc\", \"val acc\", \"test acc\"])\n",
    "print(\"results table:\")\n",
    "print(results_df)"
   ]
  }
 ],
 "metadata": {
  "kernelspec": {
   "display_name": "Python 3",
   "language": "python",
   "name": "python3"
  },
  "language_info": {
   "codemirror_mode": {
    "name": "ipython",
    "version": 3
   },
   "file_extension": ".py",
   "mimetype": "text/x-python",
   "name": "python",
   "nbconvert_exporter": "python",
   "pygments_lexer": "ipython3",
   "version": "3.13.5"
  }
 },
 "nbformat": 4,
 "nbformat_minor": 5
}
