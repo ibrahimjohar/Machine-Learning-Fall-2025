{
 "cells": [
  {
   "cell_type": "markdown",
   "id": "d0adfa5e",
   "metadata": {},
   "source": [
    "## **lab 03 notes**"
   ]
  },
  {
   "cell_type": "markdown",
   "id": "59630825",
   "metadata": {},
   "source": [
    "##### machine learning algorithms fall into 3 categories"
   ]
  },
  {
   "cell_type": "markdown",
   "id": "80af9835",
   "metadata": {},
   "source": [
    "### **1. supervised learning**"
   ]
  },
  {
   "cell_type": "markdown",
   "id": "46b5110a",
   "metadata": {},
   "source": [
    "there is labelled data (features + correct answers)\n",
    "- e.g. predicting if an email is spam (we already know spam vs not spam).\n",
    "- includes classification (like **KNN, Decision Tree**) and **regression** (predicting numbers, like house prices)"
   ]
  },
  {
   "cell_type": "markdown",
   "id": "f06d59e0",
   "metadata": {},
   "source": [
    "### **2. unsupervised learning**"
   ]
  },
  {
   "cell_type": "markdown",
   "id": "6d14a20a",
   "metadata": {},
   "source": [
    "data has no labels, algorithm tries to find structure.\n",
    "- e.g: grouping customers into segments with **K-Means Clustering**.  "
   ]
  },
  {
   "cell_type": "markdown",
   "id": "7a9fbc40",
   "metadata": {},
   "source": [
    "### **3. reinforcement learning**"
   ]
  },
  {
   "cell_type": "markdown",
   "id": "aad21bb7",
   "metadata": {},
   "source": [
    "agent learns by trial-and-error with rewards.\n",
    "- e.g. a robot learns to walk."
   ]
  },
  {
   "cell_type": "code",
   "execution_count": 1,
   "id": "34a37757",
   "metadata": {},
   "outputs": [],
   "source": [
    "from sklearn.datasets import load_iris, make_blobs\n",
    "import matplotlib.pyplot as plt"
   ]
  },
  {
   "cell_type": "code",
   "execution_count": 2,
   "id": "bef9b8ef",
   "metadata": {},
   "outputs": [
    {
     "name": "stdout",
     "output_type": "stream",
     "text": [
      "supervised dataset - features shape: (150, 4)\n",
      "supervised dataset - labels shape: (150,)\n"
     ]
    }
   ],
   "source": [
    "#supervised dataset: iris (features + labels)\n",
    "iris = load_iris()\n",
    "print(f\"supervised dataset - features shape: {iris.data.shape}\")\n",
    "print(f\"supervised dataset - labels shape: {iris.target.shape}\")"
   ]
  },
  {
   "cell_type": "markdown",
   "id": "95ea4562",
   "metadata": {},
   "source": [
    "In a dataset like Iris, we have two parts:\n",
    "\n",
    "**1.** **Features (X)** → The input measurements we use to make predictions.\n",
    "\n",
    "-  In Iris: sepal length, sepal width, petal length, petal width.\n",
    "\n",
    "-  Shape: (150, 4) → 150 samples, each with 4 features.\n",
    "\n",
    "**2.** **Target (y)** → The “answer” or label we want the model to predict.\n",
    "\n",
    "-  In Iris: which species of flower it is (0 = Setosa, 1 = Versicolor, 2 = Virginica).\n",
    "\n",
    "-  Shape: (150,) → 150 values, one for each flower.\n",
    "\n",
    "\n",
    "- *'iris.data.shape'* tells us the size of the feature matrix.\n",
    "\n",
    "- *'iris.target.shape'* tells us how many labels we have.\n",
    "\n",
    "They **must match** in the number of samples — **150 flowers** → **150 labels**.\n",
    "\n",
    "👉 Think of it like an exam:\n",
    "\n",
    "- The features are the exam questions each student answers.\n",
    "\n",
    "- The target is the teacher’s answer key.\n",
    "\n",
    "- For machine learning, we give the model both so it can learn the mapping."
   ]
  },
  {
   "cell_type": "markdown",
   "id": "3e2bdbd3",
   "metadata": {},
   "source": [
    "## 🔢 **KNN (Mathematical View)**\n",
    "\n",
    "The **K-Nearest Neighbors (KNN)** algorithm is based on a simple idea:\n",
    "\n",
    "> \"A point is classified by a majority vote of its neighbors.\"\n",
    "\n",
    "### Steps:\n",
    "1. **Choose K** → the number of neighbors to consider.  \n",
    "   - Example: K = 3 means look at the 3 closest points.  \n",
    "\n",
    "2. **Compute distance** between the new sample and all training samples.  \n",
    "   - Most common: **Euclidean distance**  \n",
    "\n",
    "   $$\n",
    "   d(x, y) = \\sqrt{\\sum_{i=1}^n (x_i - y_i)^2}\n",
    "   $$  \n",
    "\n",
    "   where $x$ and $y$ are feature vectors.  \n",
    "\n",
    "3. **Pick the K nearest neighbors** (smallest distances).  \n",
    "\n",
    "4. **Majority vote (for classification)** or **average (for regression)**.  \n",
    "   - Example: If K = 3 and neighbors’ labels are [0, 1, 1], the predicted label is **1**.  \n",
    "\n",
    "---\n",
    "\n",
    "## 👥 **KNN (Analogy)**\n",
    "\n",
    "Imagine you’re new at school and want to know if you’ll like **cricket or football** better.  \n",
    "\n",
    "- You look around at your **closest 3 friends** (neighbors).  \n",
    "- If 2 of them like cricket and 1 likes football → you’ll probably like **cricket** too.  \n",
    "- That’s KNN: look at who’s “closest” and follow the majority.  \n",
    "\n",
    "The \"closeness\" here is **distance** in the feature space.\n"
   ]
  },
  {
   "cell_type": "code",
   "execution_count": 4,
   "id": "197a336d",
   "metadata": {},
   "outputs": [
    {
     "data": {
      "image/png": "[encoded data removed]",
      "text/plain": [
       "<Figure size 640x480 with 1 Axes>"
      ]
     },
     "metadata": {},
     "output_type": "display_data"
    }
   ],
   "source": [
    "import numpy as np\n",
    "import matplotlib.pyplot as plt\n",
    "from sklearn.neighbors import KNeighborsClassifier\n",
    "\n",
    "#1.create example dataset\n",
    "#X = input features (2D pts)\n",
    "#y = target labels\n",
    "X = np.array([[1,1],[2,2],[3,3],[6,6],[7,7],[8,8]])\n",
    "y = np.array([0,0,0,1,1,1]) #0=red class, 1=blue class\n",
    "\n",
    "#2.initialize the KNN classifier\n",
    "#n_neighbors=3 → the algorithm will look at 3 closest points\n",
    "knn = KNeighborsClassifier(n_neighbors=3)\n",
    "\n",
    "#3.train the model\n",
    "#training a simple KNN with k=3\n",
    "#.fit() → tells KNN to “remember” the dataset (X = features, y = labels)\n",
    "#KNN doesn’t actually *learn equations* — it just stores the training data\n",
    "knn.fit(X,y)\n",
    "\n",
    "#4.make a prediction\n",
    "#new_pt -> the sample we want to classify\n",
    "new_point = np.array([[5,5]])\n",
    "#.predict() -> checks which class (0 or 1) the new pt should belong to\n",
    "pred = knn.predict(new_point)\n",
    "\n",
    "#5.visualisation\n",
    "#plotting the original training points\n",
    "plt.scatter(X[:,0], X[:,1], c=y, cmap='bwr', s=80, edgecolors='k')\n",
    "\n",
    "#plot the new point (in green, shaped as a star)\n",
    "plt.scatter(new_point[:,0], new_point[:,1], c='green', s=200, marker='*')\n",
    "\n",
    "#title will show predicted class (either 0 or 1)\n",
    "#0 -> red | 1 -> blue\n",
    "plt.title(f\"predicted class for (5,5): {pred[0]}\")\n",
    "plt.show()"
   ]
  },
  {
   "cell_type": "markdown",
   "id": "74855747",
   "metadata": {},
   "source": [
    "# 📘 **Distance Metrics in KNN**\n",
    "\n",
    "When KNN finds “neighbors,” it needs to measure how far points are from each other.  \n",
    "Different distance metrics capture “closeness” in different ways.\n",
    "\n",
    "### Common Distance Metrics:\n",
    "\n",
    "- **Euclidean Distance (default, most common)**  \n",
    "  Straight-line distance (like a ruler).  \n",
    "  $$\n",
    "  d(x,y) = \\sqrt{\\sum_{i=1}^n (x_i - y_i)^2}\n",
    "  $$\n",
    "\n",
    "- **Manhattan Distance**  \n",
    "  Distance if you can only move along grid lines (like blocks in a city).  \n",
    "  $$\n",
    "  d(x,y) = \\sum_{i=1}^n |x_i - y_i|\n",
    "  $$\n",
    "\n",
    "- **Minkowski Distance**  \n",
    "  A generalization of Euclidean and Manhattan.\n",
    "\n",
    "- **Hamming Distance**  \n",
    "  Used for categorical data (counts how many features differ).\n",
    "\n",
    "- **Cosine Distance**  \n",
    "  Measures the angle between two vectors, not their length.\n",
    "\n",
    "---"
   ]
  },
  {
   "cell_type": "code",
   "execution_count": 9,
   "id": "2862716d",
   "metadata": {},
   "outputs": [
    {
     "name": "stdout",
     "output_type": "stream",
     "text": [
      "point 1: [1 2]\n",
      "point 2: [4 6]\n",
      "euclidean distance: 5.0\n",
      "manhattan distance: 7\n",
      "minkowski distance (p=3): 4.497941445275415\n",
      "cosine distance: 0.007722123286332261\n",
      "hamming distance (binary arrays): 0.5\n"
     ]
    }
   ],
   "source": [
    "import numpy as np\n",
    "from scipy.spatial import distance\n",
    "\n",
    "#2 example pts\n",
    "p1 = np.array([1,2])\n",
    "p2 = np.array([4,6])\n",
    "\n",
    "#euclidean distance(straight line dist)\n",
    "euclidean = distance.euclidean(p1,p2)\n",
    "\n",
    "#manhattan distance(grid/block distance)\n",
    "manhattan = distance.cityblock(p1,p2)\n",
    "\n",
    "#minkowski distance(p=3, we can change p val)\n",
    "minkowski = distance.minkowski(p1, p2, p=3)\n",
    "\n",
    "#cosine distance (1 - cosine_similarity)\n",
    "cosine = distance.cosine(p1,p2)\n",
    "\n",
    "#example for hamming distance (binary/categorical data)\n",
    "#comparing two sequences of 0s and 1s\n",
    "b1 = np.array([1,0,1,1])\n",
    "b2 = np.array([1,1,0,1])\n",
    "hamming = distance.hamming(b1,b2)\n",
    "\n",
    "print(\"point 1:\", p1)\n",
    "print(\"point 2:\", p2)\n",
    "print(\"euclidean distance:\", euclidean)\n",
    "print(\"manhattan distance:\", manhattan)\n",
    "print(\"minkowski distance (p=3):\", minkowski)\n",
    "print(\"cosine distance:\", cosine)\n",
    "print(\"hamming distance (binary arrays):\", hamming)"
   ]
  },
  {
   "cell_type": "markdown",
   "id": "97645659",
   "metadata": {},
   "source": [
    "# 📘 **Training vs Testing Accuracy**\n",
    "\n",
    "When we train a machine learning model, we usually split the dataset into two parts:\n",
    "\n",
    "- **Training set** → The data used to \"teach\" the model.  \n",
    "- **Testing set** → Unseen data used to check how well the model generalizes.\n",
    "\n",
    "### Key Points:\n",
    "- **Training Accuracy**:  \n",
    "  How well the model predicts on the same data it was trained on.  \n",
    "  High training accuracy means the model learned patterns in the training data.\n",
    "\n",
    "- **Testing Accuracy**:  \n",
    "  How well the model predicts on unseen data.  \n",
    "  High testing accuracy means the model *generalizes well*.\n",
    "\n",
    "If a model has:\n",
    "- High training accuracy but low testing accuracy → **Overfitting**.  \n",
    "- Low training accuracy and low testing accuracy → **Underfitting**.  \n",
    "\n",
    "The goal is to balance both → **Generalization**."
   ]
  },
  {
   "cell_type": "code",
   "execution_count": null,
   "id": "8aa01923",
   "metadata": {},
   "outputs": [
    {
     "name": "stdout",
     "output_type": "stream",
     "text": [
      "training accuracy: 0.95\n",
      "testing accuracy: 1.0\n"
     ]
    }
   ],
   "source": [
    "from sklearn.datasets import load_iris\n",
    "from sklearn.model_selection import train_test_split\n",
    "from sklearn.neighbors import KNeighborsClassifier\n",
    "from sklearn.metrics import accuracy_score\n",
    "\n",
    "#load dataset\n",
    "iris = load_iris()\n",
    "X, y = iris.data, iris.target\n",
    "\n",
    "#split into 80% training, and 20% testing\n",
    "X_train, X_test, y_train, y_test = train_test_split(X, y, test_size=0.2, random_state=42)\n",
    "\n",
    "#train KNN with k=3\n",
    "knn = KNeighborsClassifier(n_neighbors=3)\n",
    "knn.fit(X_train, y_train)\n",
    "\n",
    "#predictions on training and testing sets\n",
    "#➡ Uses the trained KNN model to predict labels:\n",
    "#-On the training set (how well it memorized)\n",
    "#-On the testing set (how well it generalizes).\n",
    "y_train_pred = knn.predict(X_train)\n",
    "y_test_pred = knn.predict(X_test)\n",
    "\n",
    "#accuracy scores\n",
    "#➡ Compares predictions against the true labels:\n",
    "#train_acc = % correct on training data\n",
    "#test_acc = % correct on unseen test data\n",
    "train_acc = accuracy_score(y_train, y_train_pred)\n",
    "test_acc = accuracy_score(y_test, y_test_pred)\n",
    "\n",
    "print(\"training accuracy:\", train_acc)\n",
    "print(\"testing accuracy:\", test_acc)"
   ]
  },
  {
   "cell_type": "markdown",
   "id": "0233035e",
   "metadata": {},
   "source": [
    "# **Choosing K in KNN**\n",
    "\n",
    "The number of neighbors **K** is the most important parameter in KNN.\n",
    "\n",
    "- **Small K (e.g., K=1,2):**\n",
    "  - Very flexible\n",
    "  - Low bias, high variance\n",
    "  - Can overfit (fits noise in training data)\n",
    "\n",
    "- **Large K (e.g., K=10,20):**\n",
    "  - Smoother decision boundary\n",
    "  - High bias, low variance\n",
    "  - Can underfit (misses details)\n",
    "\n",
    "### Methods to choose K:\n",
    "1. **Square Root Rule**:  \n",
    "   K ≈ sqrt(number of training samples).  \n",
    "   Example: if training set = 100 samples → K ≈ 10.  \n",
    "   (Often choose an odd K to avoid ties.)\n",
    "\n",
    "2. **Experimentation**:  \n",
    "   Try different values of K and check accuracy on test data.  \n",
    "   Plot training vs testing accuracy to see bias–variance tradeoff."
   ]
  },
  {
   "cell_type": "code",
   "execution_count": 14,
   "id": "fd9e5436",
   "metadata": {},
   "outputs": [
    {
     "name": "stdout",
     "output_type": "stream",
     "text": [
      "k=1: training accuracy=1.00, testing accuracy=1.00\n",
      "k=2: training accuracy=0.97, testing accuracy=1.00\n",
      "k=3: training accuracy=0.95, testing accuracy=1.00\n",
      "k=4: training accuracy=0.96, testing accuracy=1.00\n",
      "k=5: training accuracy=0.97, testing accuracy=1.00\n",
      "k=6: training accuracy=0.97, testing accuracy=1.00\n",
      "k=7: training accuracy=0.97, testing accuracy=0.97\n",
      "k=8: training accuracy=0.96, testing accuracy=1.00\n",
      "k=9: training accuracy=0.97, testing accuracy=1.00\n",
      "k=10: training accuracy=0.98, testing accuracy=1.00\n"
     ]
    },
    {
     "data": {
      "text/plain": [
       "<matplotlib.legend.Legend at 0x1eaf3725010>"
      ]
     },
     "execution_count": 14,
     "metadata": {},
     "output_type": "execute_result"
    },
    {
     "data": {
      "image/png": "[encoded data removed]",
      "text/plain": [
       "<Figure size 640x480 with 1 Axes>"
      ]
     },
     "metadata": {},
     "output_type": "display_data"
    }
   ],
   "source": [
    "import matplotlib.pyplot as plt\n",
    "from sklearn.datasets import load_iris\n",
    "from sklearn.model_selection import train_test_split\n",
    "from sklearn.neighbors import KNeighborsClassifier\n",
    "from sklearn.metrics import accuracy_score\n",
    "\n",
    "#Load dataset\n",
    "iris = load_iris()\n",
    "X, y = iris.data, iris.target\n",
    "\n",
    "#Split dataset (80% train, 20% test)\n",
    "X_train, X_test, y_train, y_test = train_test_split(\n",
    "    X, y, test_size=0.2, random_state=42\n",
    ")\n",
    "\n",
    "#store accuracies\n",
    "train_accuracies = []\n",
    "test_accuracies = []\n",
    "\n",
    "#trying k from 1 -> 10\n",
    "for k in range(1,11):\n",
    "    knn = KNeighborsClassifier(n_neighbors=k)\n",
    "    knn.fit(X_train, y_train)\n",
    "    \n",
    "    #training & testing predictions\n",
    "    y_train_pred = knn.predict(X_train)\n",
    "    y_test_pred = knn.predict(X_test)\n",
    "    \n",
    "    #accuracy scores\n",
    "    train_acc = accuracy_score(y_train, y_train_pred)\n",
    "    test_acc = accuracy_score(y_test, y_test_pred)\n",
    "    \n",
    "    train_accuracies.append(train_acc)\n",
    "    test_accuracies.append(test_acc)\n",
    "    \n",
    "    print(f\"k={k}: training accuracy={train_acc:.2f}, testing accuracy={test_acc:.2f}\")\n",
    "\n",
    "#plot\n",
    "plt.plot(range(1, 11), train_accuracies, label=\"training accuracy\", marker='o')\n",
    "plt.plot(range(1, 11), test_accuracies, label=\"testing accuracy\", marker='s')\n",
    "plt.xlabel(\"number of neighbors (K)\")\n",
    "plt.ylabel(\"accuracy\")\n",
    "plt.title(\"knn accuracy vs k (iris dataset)\")\n",
    "plt.legend()"
   ]
  },
  {
   "cell_type": "markdown",
   "id": "85ce2587",
   "metadata": {},
   "source": [
    "# **Bias–Variance Tradeoff**\n",
    "\n",
    "When we train a machine learning model, two main sources of error appear:\n",
    "\n",
    "- **Bias (Underfitting):**\n",
    "  - Error from overly simple assumptions.\n",
    "  - Model cannot capture the true patterns in the data.\n",
    "  - Example: Using a straight line to fit a curved dataset.\n",
    "  - Symptoms: Low training accuracy **and** low testing accuracy.\n",
    "\n",
    "- **Variance (Overfitting):**\n",
    "  - Error from being too sensitive to training data.\n",
    "  - Model learns not only the patterns but also the noise.\n",
    "  - Symptoms: High training accuracy but low testing accuracy.\n",
    "\n",
    "### In KNN:\n",
    "- **Small K (e.g., K=1):**\n",
    "  - Very flexible → low bias but high variance.\n",
    "  - Memorizes training data (100% training accuracy), but testing accuracy may drop.\n",
    "\n",
    "- **Large K (e.g., K=10+):**\n",
    "  - Smoother, less flexible → high bias but low variance.\n",
    "  - Misses important details, leading to underfitting.\n",
    "\n",
    "✅ The goal is to find a K that balances bias and variance → good **generalization**."
   ]
  },
  {
   "cell_type": "code",
   "execution_count": 15,
   "id": "0c4728cd",
   "metadata": {},
   "outputs": [
    {
     "data": {
      "image/png": "[encoded data removed]",
      "text/plain": [
       "<Figure size 640x480 with 1 Axes>"
      ]
     },
     "metadata": {},
     "output_type": "display_data"
    }
   ],
   "source": [
    "from sklearn.datasets import load_iris\n",
    "from sklearn.model_selection import train_test_split\n",
    "from sklearn.neighbors import KNeighborsClassifier\n",
    "from sklearn.metrics import accuracy_score\n",
    "import matplotlib.pyplot as plt\n",
    "\n",
    "# Load data\n",
    "iris = load_iris()\n",
    "X, y = iris.data, iris.target\n",
    "\n",
    "# Train-test split\n",
    "X_train, X_test, y_train, y_test = train_test_split(X, y, test_size=0.2, random_state=42)\n",
    "\n",
    "train_acc_list, test_acc_list = [], []\n",
    "\n",
    "# Try different K values\n",
    "for k in range(1, 21):\n",
    "    knn = KNeighborsClassifier(n_neighbors=k)\n",
    "    knn.fit(X_train, y_train)\n",
    "    \n",
    "    train_acc = accuracy_score(y_train, knn.predict(X_train))\n",
    "    test_acc = accuracy_score(y_test, knn.predict(X_test))\n",
    "    \n",
    "    train_acc_list.append(train_acc)\n",
    "    test_acc_list.append(test_acc)\n",
    "\n",
    "plt.plot(range(1, 21), train_acc_list, label=\"Training Accuracy\", marker='o')\n",
    "plt.plot(range(1, 21), test_acc_list, label=\"Testing Accuracy\", marker='s')\n",
    "plt.xlabel(\"K (Number of Neighbors)\")\n",
    "plt.ylabel(\"Accuracy\")\n",
    "plt.title(\"Bias-Variance Tradeoff in KNN\")\n",
    "plt.legend()\n",
    "plt.show()"
   ]
  },
  {
   "cell_type": "markdown",
   "id": "a1022562",
   "metadata": {},
   "source": [
    "# **Experiment: KNN with Different Weights and Metrics**\n",
    "\n",
    "We will try:\n",
    "1. `weights=\"uniform\"` → all neighbors contribute equally.\n",
    "2. `weights=\"distance\"` → closer neighbors influence more.\n",
    "3. `metric=\"euclidean\"` → straight-line distance.\n",
    "4. `metric=\"manhattan\"` → grid/block distance.\n",
    "\n",
    "We’ll compare training and testing accuracies for each setting."
   ]
  },
  {
   "cell_type": "code",
   "execution_count": 16,
   "id": "17b87bbe",
   "metadata": {},
   "outputs": [
    {
     "name": "stdout",
     "output_type": "stream",
     "text": [
      "K=3, Weights=uniform, Metric=euclidean\n",
      "  Training Accuracy: 0.95\n",
      "  Testing Accuracy:  1.00\n",
      "----------------------------------------\n",
      "K=3, Weights=distance, Metric=euclidean\n",
      "  Training Accuracy: 1.00\n",
      "  Testing Accuracy:  1.00\n",
      "----------------------------------------\n",
      "K=3, Weights=uniform, Metric=manhattan\n",
      "  Training Accuracy: 0.95\n",
      "  Testing Accuracy:  1.00\n",
      "----------------------------------------\n",
      "K=3, Weights=distance, Metric=manhattan\n",
      "  Training Accuracy: 1.00\n",
      "  Testing Accuracy:  1.00\n",
      "----------------------------------------\n"
     ]
    }
   ],
   "source": [
    "from sklearn.datasets import load_iris\n",
    "from sklearn.model_selection import train_test_split\n",
    "from sklearn.neighbors import KNeighborsClassifier\n",
    "from sklearn.metrics import accuracy_score\n",
    "\n",
    "# Load dataset\n",
    "iris = load_iris()\n",
    "X, y = iris.data, iris.target\n",
    "\n",
    "# Train-test split\n",
    "X_train, X_test, y_train, y_test = train_test_split(\n",
    "    X, y, test_size=0.2, random_state=42\n",
    ")\n",
    "\n",
    "# Settings to test\n",
    "settings = [\n",
    "    {\"weights\": \"uniform\", \"metric\": \"euclidean\"},\n",
    "    {\"weights\": \"distance\", \"metric\": \"euclidean\"},\n",
    "    {\"weights\": \"uniform\", \"metric\": \"manhattan\"},\n",
    "    {\"weights\": \"distance\", \"metric\": \"manhattan\"},\n",
    "]\n",
    "\n",
    "# Try each setting with K=3\n",
    "for s in settings:\n",
    "    knn = KNeighborsClassifier(n_neighbors=3, weights=s[\"weights\"], metric=s[\"metric\"])\n",
    "    knn.fit(X_train, y_train)\n",
    "    \n",
    "    train_acc = accuracy_score(y_train, knn.predict(X_train))\n",
    "    test_acc = accuracy_score(y_test, knn.predict(X_test))\n",
    "    \n",
    "    print(f\"K=3, Weights={s['weights']}, Metric={s['metric']}\")\n",
    "    print(f\"  Training Accuracy: {train_acc:.2f}\")\n",
    "    print(f\"  Testing Accuracy:  {test_acc:.2f}\")\n",
    "    print(\"-\"*40)\n"
   ]
  }
 ],
 "metadata": {
  "kernelspec": {
   "display_name": "Python 3",
   "language": "python",
   "name": "python3"
  },
  "language_info": {
   "codemirror_mode": {
    "name": "ipython",
    "version": 3
   },
   "file_extension": ".py",
   "mimetype": "text/x-python",
   "name": "python",
   "nbconvert_exporter": "python",
   "pygments_lexer": "ipython3",
   "version": "3.13.5"
  }
 },
 "nbformat": 4,
 "nbformat_minor": 5
}
